{
 "cells": [
  {
   "cell_type": "code",
   "execution_count": 15,
   "metadata": {},
   "outputs": [],
   "source": [
    "import torch\n",
    "import torch.nn as nn\n",
    "import torch.optim as optim\n",
    "import torch.nn.functional as F\n",
    "from torch.autograd import Variable\n",
    "from scipy import linalg\n",
    "\n",
    "from torch.utils.data import DataLoader\n",
    "from torchvision import datasets, transforms\n",
    "\n",
    "import matplotlib.pyplot as plt\n",
    "from tqdm import tnrange\n",
    "import seaborn as sns\n",
    "import pandas as pd\n",
    "import numpy as np\n",
    "from torchsummary import summary\n",
    "import torchvision\n",
    "\n",
    "import sys\n",
    "from torch.utils.tensorboard import SummaryWriter\n",
    "\n",
    "from generative_metric import compute_generative_metric"
   ]
  },
  {
   "cell_type": "code",
   "execution_count": 2,
   "metadata": {},
   "outputs": [],
   "source": [
    "sys.path.insert(0, '../models/')"
   ]
  },
  {
   "cell_type": "code",
   "execution_count": 3,
   "metadata": {},
   "outputs": [],
   "source": [
    "from CVAE_first import CVAE\n",
    "from CVAE_first import idx2onehot\n",
    "from sample import Sample\n"
   ]
  },
  {
   "cell_type": "code",
   "execution_count": 4,
   "metadata": {},
   "outputs": [],
   "source": [
    "sys.path.insert(0, '../losses/')"
   ]
  },
  {
   "cell_type": "code",
   "execution_count": 5,
   "metadata": {},
   "outputs": [],
   "source": [
    "from ELBO import calculate_loss"
   ]
  },
  {
   "cell_type": "code",
   "execution_count": 6,
   "metadata": {},
   "outputs": [],
   "source": [
    "sys.path.insert(0, '../metrics/')"
   ]
  },
  {
   "cell_type": "code",
   "execution_count": 7,
   "metadata": {},
   "outputs": [],
   "source": [
    "from inception import InceptionV3\n",
    "from calculate_fid import get_activations, calculate_frechet_distance\n",
    "from blur import calc_blur"
   ]
  },
  {
   "cell_type": "code",
   "execution_count": 8,
   "metadata": {},
   "outputs": [],
   "source": [
    "from train import train\n",
    "from test import test"
   ]
  },
  {
   "cell_type": "code",
   "execution_count": 9,
   "metadata": {},
   "outputs": [],
   "source": [
    "device = torch.device('cuda' if torch.cuda.is_available() else 'cpu')\n",
    "transforms = transforms.Compose([transforms.ToTensor()])"
   ]
  },
  {
   "cell_type": "code",
   "execution_count": 10,
   "metadata": {},
   "outputs": [],
   "source": [
    "BATCH_SIZE=50\n",
    "N_EPOCHS = 15           # times to run the model on complete data\n",
    "INPUT_DIM = 28 * 28 * 3     # size of each input\n",
    "HIDDEN_DIM = 1024\n",
    "IMAGE_CHANNELS = 3# hidden dimension\n",
    "LATENT_DIM = 10        # latent vector dimension\n",
    "N_CLASSES = 15          # number of classes in the data\n",
    "lr = 1e-3\n"
   ]
  },
  {
   "cell_type": "code",
   "execution_count": 11,
   "metadata": {},
   "outputs": [],
   "source": [
    "train_dataset = datasets.MNIST(\n",
    "    './data',\n",
    "    train=True,\n",
    "    download=True,\n",
    "    transform=transforms)\n",
    "\n",
    "test_dataset = datasets.MNIST(\n",
    "    './data',\n",
    "    train=False,\n",
    "    download=True,\n",
    "    transform=transforms\n",
    ")\n",
    "\n",
    "train_iterator = DataLoader(train_dataset, batch_size=BATCH_SIZE, shuffle=True)\n",
    "test_iterator = DataLoader(test_dataset, batch_size=BATCH_SIZE)\n"
   ]
  },
  {
   "cell_type": "code",
   "execution_count": 12,
   "metadata": {},
   "outputs": [
    {
     "data": {
      "text/plain": [
       "['../metrics/',\n",
       " '../models/',\n",
       " '../losses/',\n",
       " '../models/',\n",
       " '../losses/',\n",
       " '../metrics/',\n",
       " '../losses/',\n",
       " '.',\n",
       " '../models/',\n",
       " '../metrics/',\n",
       " '../models/',\n",
       " '/home/ritvik.vasan/CVAE/run_models',\n",
       " '/tmp/yes/envs/ritvik_pytorch_tutorial/lib/python37.zip',\n",
       " '/tmp/yes/envs/ritvik_pytorch_tutorial/lib/python3.7',\n",
       " '/tmp/yes/envs/ritvik_pytorch_tutorial/lib/python3.7/lib-dynload',\n",
       " '',\n",
       " '/tmp/yes/envs/ritvik_pytorch_tutorial/lib/python3.7/site-packages',\n",
       " '/tmp/yes/envs/ritvik_pytorch_tutorial/lib/python3.7/site-packages/IPython/extensions',\n",
       " '/home/ritvik.vasan/.ipython']"
      ]
     },
     "execution_count": 12,
     "metadata": {},
     "output_type": "execute_result"
    }
   ],
   "source": [
    "sys.path"
   ]
  },
  {
   "cell_type": "code",
   "execution_count": 13,
   "metadata": {},
   "outputs": [],
   "source": [
    "best_test_loss = float('inf')\n",
    "\n",
    "modelt = CVAE(IMAGE_CHANNELS,N_CLASSES, HIDDEN_DIM, LATENT_DIM, )\n",
    "\n",
    "optimizert = optim.Adam(modelt.parameters(), lr=lr)\n",
    "\n",
    "dataframe = {'epoch': [], 'train_losses': [], 'train_rcl_losses': [], 'train_kl_losses': [], 'test_losses': [],\n",
    "             'test_rcl_losses': [], 'test_kl_losses': [], 'fid_any_color_any_digit': [],\n",
    "             'fid_color_blue_any_digit': [], 'fid_any_color_digit_0': [], \n",
    "             'fid_color_blue_digit_zero': [],\n",
    "             'blur': []}\n",
    "\n",
    "data2 = {'epoch': [], 'n_dim': [], 'kld_avg_dim': []}\n"
   ]
  },
  {
   "cell_type": "code",
   "execution_count": 14,
   "metadata": {},
   "outputs": [],
   "source": [
    "# import torchvision\n",
    "# network = modelt\n",
    "# images, labels = next(iter(train_iterator))\n",
    "# grid = torchvision.utils.make_grid(images)"
   ]
  },
  {
   "cell_type": "code",
   "execution_count": 15,
   "metadata": {},
   "outputs": [
    {
     "name": "stdout",
     "output_type": "stream",
     "text": [
      "Object `tb.add_graph` not found.\n"
     ]
    }
   ],
   "source": [
    "tb.add_graph?"
   ]
  },
  {
   "cell_type": "code",
   "execution_count": 14,
   "metadata": {},
   "outputs": [],
   "source": [
    "tb = SummaryWriter(log_dir = './runs_2/')\n",
    "# tb.add_image('images', grid)\n",
    "# tb.add_graph(network, images)"
   ]
  },
  {
   "cell_type": "code",
   "execution_count": 16,
   "metadata": {},
   "outputs": [
    {
     "data": {
      "application/vnd.jupyter.widget-view+json": {
       "model_id": "f29772c419654d9b9fc7a5f35cf0ce26",
       "version_major": 2,
       "version_minor": 0
      },
      "text/plain": [
       "HBox(children=(IntProgress(value=0, description='Epochs', max=15, style=ProgressStyle(description_width='initi…"
      ]
     },
     "metadata": {},
     "output_type": "display_data"
    },
    {
     "name": "stderr",
     "output_type": "stream",
     "text": [
      "/tmp/yes/envs/ritvik_pytorch_tutorial/lib/python3.7/site-packages/torch/nn/_reduction.py:46: UserWarning: size_average and reduce args will be deprecated, please use reduction='sum' instead.\n",
      "  warnings.warn(warning.format(ret))\n",
      "../metrics/calculate_fid.py:47: UserWarning: volatile was removed and now has no effect. Use `with torch.no_grad():` instead.\n",
      "  batch = Variable(batch, volatile=True)\n",
      "/tmp/yes/envs/ritvik_pytorch_tutorial/lib/python3.7/site-packages/torch/nn/functional.py:2457: UserWarning: nn.functional.upsample is deprecated. Use nn.functional.interpolate instead.\n",
      "  warnings.warn(\"nn.functional.upsample is deprecated. Use nn.functional.interpolate instead.\")\n",
      "/tmp/yes/envs/ritvik_pytorch_tutorial/lib/python3.7/site-packages/torch/nn/functional.py:2539: UserWarning: Default upsampling behavior when mode=bilinear is changed to align_corners=False since 0.4.0. Please specify align_corners=True if the old behavior is desired. See the documentation of nn.Upsample for details.\n",
      "  \"See the documentation of nn.Upsample for details.\".format(mode))\n"
     ]
    },
    {
     "name": "stdout",
     "output_type": "stream",
     "text": [
      "Epoch 0, Train Loss: 156.90, Train KLD Loss: 9.43, Test Loss: 112.48, Test KLD Loss: 13.63\n",
      "end of epoch\n"
     ]
    },
    {
     "name": "stderr",
     "output_type": "stream",
     "text": [
      "/tmp/yes/envs/ritvik_pytorch_tutorial/lib/python3.7/site-packages/torch/nn/_reduction.py:46: UserWarning: size_average and reduce args will be deprecated, please use reduction='sum' instead.\n",
      "  warnings.warn(warning.format(ret))\n",
      "../metrics/calculate_fid.py:47: UserWarning: volatile was removed and now has no effect. Use `with torch.no_grad():` instead.\n",
      "  batch = Variable(batch, volatile=True)\n",
      "/tmp/yes/envs/ritvik_pytorch_tutorial/lib/python3.7/site-packages/torch/nn/functional.py:2457: UserWarning: nn.functional.upsample is deprecated. Use nn.functional.interpolate instead.\n",
      "  warnings.warn(\"nn.functional.upsample is deprecated. Use nn.functional.interpolate instead.\")\n",
      "/tmp/yes/envs/ritvik_pytorch_tutorial/lib/python3.7/site-packages/torch/nn/functional.py:2539: UserWarning: Default upsampling behavior when mode=bilinear is changed to align_corners=False since 0.4.0. Please specify align_corners=True if the old behavior is desired. See the documentation of nn.Upsample for details.\n",
      "  \"See the documentation of nn.Upsample for details.\".format(mode))\n"
     ]
    },
    {
     "name": "stdout",
     "output_type": "stream",
     "text": [
      "Epoch 1, Train Loss: 108.84, Train KLD Loss: 14.66, Test Loss: 105.03, Test KLD Loss: 14.66\n",
      "end of epoch\n"
     ]
    },
    {
     "name": "stderr",
     "output_type": "stream",
     "text": [
      "/tmp/yes/envs/ritvik_pytorch_tutorial/lib/python3.7/site-packages/torch/nn/_reduction.py:46: UserWarning: size_average and reduce args will be deprecated, please use reduction='sum' instead.\n",
      "  warnings.warn(warning.format(ret))\n",
      "../metrics/calculate_fid.py:47: UserWarning: volatile was removed and now has no effect. Use `with torch.no_grad():` instead.\n",
      "  batch = Variable(batch, volatile=True)\n",
      "/tmp/yes/envs/ritvik_pytorch_tutorial/lib/python3.7/site-packages/torch/nn/functional.py:2457: UserWarning: nn.functional.upsample is deprecated. Use nn.functional.interpolate instead.\n",
      "  warnings.warn(\"nn.functional.upsample is deprecated. Use nn.functional.interpolate instead.\")\n",
      "/tmp/yes/envs/ritvik_pytorch_tutorial/lib/python3.7/site-packages/torch/nn/functional.py:2539: UserWarning: Default upsampling behavior when mode=bilinear is changed to align_corners=False since 0.4.0. Please specify align_corners=True if the old behavior is desired. See the documentation of nn.Upsample for details.\n",
      "  \"See the documentation of nn.Upsample for details.\".format(mode))\n"
     ]
    },
    {
     "name": "stdout",
     "output_type": "stream",
     "text": [
      "Epoch 2, Train Loss: 103.90, Train KLD Loss: 15.15, Test Loss: 101.88, Test KLD Loss: 15.04\n",
      "end of epoch\n"
     ]
    },
    {
     "name": "stderr",
     "output_type": "stream",
     "text": [
      "/tmp/yes/envs/ritvik_pytorch_tutorial/lib/python3.7/site-packages/torch/nn/_reduction.py:46: UserWarning: size_average and reduce args will be deprecated, please use reduction='sum' instead.\n",
      "  warnings.warn(warning.format(ret))\n",
      "../metrics/calculate_fid.py:47: UserWarning: volatile was removed and now has no effect. Use `with torch.no_grad():` instead.\n",
      "  batch = Variable(batch, volatile=True)\n",
      "/tmp/yes/envs/ritvik_pytorch_tutorial/lib/python3.7/site-packages/torch/nn/functional.py:2457: UserWarning: nn.functional.upsample is deprecated. Use nn.functional.interpolate instead.\n",
      "  warnings.warn(\"nn.functional.upsample is deprecated. Use nn.functional.interpolate instead.\")\n",
      "/tmp/yes/envs/ritvik_pytorch_tutorial/lib/python3.7/site-packages/torch/nn/functional.py:2539: UserWarning: Default upsampling behavior when mode=bilinear is changed to align_corners=False since 0.4.0. Please specify align_corners=True if the old behavior is desired. See the documentation of nn.Upsample for details.\n",
      "  \"See the documentation of nn.Upsample for details.\".format(mode))\n"
     ]
    },
    {
     "name": "stdout",
     "output_type": "stream",
     "text": [
      "Epoch 3, Train Loss: 101.46, Train KLD Loss: 15.39, Test Loss: 99.55, Test KLD Loss: 15.64\n",
      "end of epoch\n"
     ]
    },
    {
     "name": "stderr",
     "output_type": "stream",
     "text": [
      "/tmp/yes/envs/ritvik_pytorch_tutorial/lib/python3.7/site-packages/torch/nn/_reduction.py:46: UserWarning: size_average and reduce args will be deprecated, please use reduction='sum' instead.\n",
      "  warnings.warn(warning.format(ret))\n",
      "../metrics/calculate_fid.py:47: UserWarning: volatile was removed and now has no effect. Use `with torch.no_grad():` instead.\n",
      "  batch = Variable(batch, volatile=True)\n",
      "/tmp/yes/envs/ritvik_pytorch_tutorial/lib/python3.7/site-packages/torch/nn/functional.py:2457: UserWarning: nn.functional.upsample is deprecated. Use nn.functional.interpolate instead.\n",
      "  warnings.warn(\"nn.functional.upsample is deprecated. Use nn.functional.interpolate instead.\")\n",
      "/tmp/yes/envs/ritvik_pytorch_tutorial/lib/python3.7/site-packages/torch/nn/functional.py:2539: UserWarning: Default upsampling behavior when mode=bilinear is changed to align_corners=False since 0.4.0. Please specify align_corners=True if the old behavior is desired. See the documentation of nn.Upsample for details.\n",
      "  \"See the documentation of nn.Upsample for details.\".format(mode))\n"
     ]
    },
    {
     "name": "stdout",
     "output_type": "stream",
     "text": [
      "Epoch 4, Train Loss: 99.78, Train KLD Loss: 15.56, Test Loss: 98.55, Test KLD Loss: 15.76\n",
      "end of epoch\n"
     ]
    },
    {
     "name": "stderr",
     "output_type": "stream",
     "text": [
      "/tmp/yes/envs/ritvik_pytorch_tutorial/lib/python3.7/site-packages/torch/nn/_reduction.py:46: UserWarning: size_average and reduce args will be deprecated, please use reduction='sum' instead.\n",
      "  warnings.warn(warning.format(ret))\n",
      "../metrics/calculate_fid.py:47: UserWarning: volatile was removed and now has no effect. Use `with torch.no_grad():` instead.\n",
      "  batch = Variable(batch, volatile=True)\n",
      "/tmp/yes/envs/ritvik_pytorch_tutorial/lib/python3.7/site-packages/torch/nn/functional.py:2457: UserWarning: nn.functional.upsample is deprecated. Use nn.functional.interpolate instead.\n",
      "  warnings.warn(\"nn.functional.upsample is deprecated. Use nn.functional.interpolate instead.\")\n",
      "/tmp/yes/envs/ritvik_pytorch_tutorial/lib/python3.7/site-packages/torch/nn/functional.py:2539: UserWarning: Default upsampling behavior when mode=bilinear is changed to align_corners=False since 0.4.0. Please specify align_corners=True if the old behavior is desired. See the documentation of nn.Upsample for details.\n",
      "  \"See the documentation of nn.Upsample for details.\".format(mode))\n"
     ]
    },
    {
     "name": "stdout",
     "output_type": "stream",
     "text": [
      "Epoch 5, Train Loss: 98.52, Train KLD Loss: 15.68, Test Loss: 97.91, Test KLD Loss: 15.36\n",
      "end of epoch\n"
     ]
    },
    {
     "name": "stderr",
     "output_type": "stream",
     "text": [
      "/tmp/yes/envs/ritvik_pytorch_tutorial/lib/python3.7/site-packages/torch/nn/_reduction.py:46: UserWarning: size_average and reduce args will be deprecated, please use reduction='sum' instead.\n",
      "  warnings.warn(warning.format(ret))\n",
      "../metrics/calculate_fid.py:47: UserWarning: volatile was removed and now has no effect. Use `with torch.no_grad():` instead.\n",
      "  batch = Variable(batch, volatile=True)\n",
      "/tmp/yes/envs/ritvik_pytorch_tutorial/lib/python3.7/site-packages/torch/nn/functional.py:2457: UserWarning: nn.functional.upsample is deprecated. Use nn.functional.interpolate instead.\n",
      "  warnings.warn(\"nn.functional.upsample is deprecated. Use nn.functional.interpolate instead.\")\n",
      "/tmp/yes/envs/ritvik_pytorch_tutorial/lib/python3.7/site-packages/torch/nn/functional.py:2539: UserWarning: Default upsampling behavior when mode=bilinear is changed to align_corners=False since 0.4.0. Please specify align_corners=True if the old behavior is desired. See the documentation of nn.Upsample for details.\n",
      "  \"See the documentation of nn.Upsample for details.\".format(mode))\n"
     ]
    },
    {
     "name": "stdout",
     "output_type": "stream",
     "text": [
      "Epoch 6, Train Loss: 97.51, Train KLD Loss: 15.76, Test Loss: 97.19, Test KLD Loss: 15.38\n",
      "end of epoch\n"
     ]
    },
    {
     "name": "stderr",
     "output_type": "stream",
     "text": [
      "/tmp/yes/envs/ritvik_pytorch_tutorial/lib/python3.7/site-packages/torch/nn/_reduction.py:46: UserWarning: size_average and reduce args will be deprecated, please use reduction='sum' instead.\n",
      "  warnings.warn(warning.format(ret))\n",
      "../metrics/calculate_fid.py:47: UserWarning: volatile was removed and now has no effect. Use `with torch.no_grad():` instead.\n",
      "  batch = Variable(batch, volatile=True)\n",
      "/tmp/yes/envs/ritvik_pytorch_tutorial/lib/python3.7/site-packages/torch/nn/functional.py:2457: UserWarning: nn.functional.upsample is deprecated. Use nn.functional.interpolate instead.\n",
      "  warnings.warn(\"nn.functional.upsample is deprecated. Use nn.functional.interpolate instead.\")\n",
      "/tmp/yes/envs/ritvik_pytorch_tutorial/lib/python3.7/site-packages/torch/nn/functional.py:2539: UserWarning: Default upsampling behavior when mode=bilinear is changed to align_corners=False since 0.4.0. Please specify align_corners=True if the old behavior is desired. See the documentation of nn.Upsample for details.\n",
      "  \"See the documentation of nn.Upsample for details.\".format(mode))\n"
     ]
    },
    {
     "name": "stdout",
     "output_type": "stream",
     "text": [
      "Epoch 7, Train Loss: 96.81, Train KLD Loss: 15.84, Test Loss: 96.50, Test KLD Loss: 15.74\n",
      "end of epoch\n"
     ]
    },
    {
     "name": "stderr",
     "output_type": "stream",
     "text": [
      "/tmp/yes/envs/ritvik_pytorch_tutorial/lib/python3.7/site-packages/torch/nn/_reduction.py:46: UserWarning: size_average and reduce args will be deprecated, please use reduction='sum' instead.\n",
      "  warnings.warn(warning.format(ret))\n",
      "../metrics/calculate_fid.py:47: UserWarning: volatile was removed and now has no effect. Use `with torch.no_grad():` instead.\n",
      "  batch = Variable(batch, volatile=True)\n",
      "/tmp/yes/envs/ritvik_pytorch_tutorial/lib/python3.7/site-packages/torch/nn/functional.py:2457: UserWarning: nn.functional.upsample is deprecated. Use nn.functional.interpolate instead.\n",
      "  warnings.warn(\"nn.functional.upsample is deprecated. Use nn.functional.interpolate instead.\")\n",
      "/tmp/yes/envs/ritvik_pytorch_tutorial/lib/python3.7/site-packages/torch/nn/functional.py:2539: UserWarning: Default upsampling behavior when mode=bilinear is changed to align_corners=False since 0.4.0. Please specify align_corners=True if the old behavior is desired. See the documentation of nn.Upsample for details.\n",
      "  \"See the documentation of nn.Upsample for details.\".format(mode))\n"
     ]
    },
    {
     "name": "stdout",
     "output_type": "stream",
     "text": [
      "Epoch 8, Train Loss: 96.18, Train KLD Loss: 15.93, Test Loss: 96.61, Test KLD Loss: 15.64\n",
      "end of epoch\n"
     ]
    },
    {
     "name": "stderr",
     "output_type": "stream",
     "text": [
      "/tmp/yes/envs/ritvik_pytorch_tutorial/lib/python3.7/site-packages/torch/nn/_reduction.py:46: UserWarning: size_average and reduce args will be deprecated, please use reduction='sum' instead.\n",
      "  warnings.warn(warning.format(ret))\n",
      "../metrics/calculate_fid.py:47: UserWarning: volatile was removed and now has no effect. Use `with torch.no_grad():` instead.\n",
      "  batch = Variable(batch, volatile=True)\n",
      "/tmp/yes/envs/ritvik_pytorch_tutorial/lib/python3.7/site-packages/torch/nn/functional.py:2457: UserWarning: nn.functional.upsample is deprecated. Use nn.functional.interpolate instead.\n",
      "  warnings.warn(\"nn.functional.upsample is deprecated. Use nn.functional.interpolate instead.\")\n",
      "/tmp/yes/envs/ritvik_pytorch_tutorial/lib/python3.7/site-packages/torch/nn/functional.py:2539: UserWarning: Default upsampling behavior when mode=bilinear is changed to align_corners=False since 0.4.0. Please specify align_corners=True if the old behavior is desired. See the documentation of nn.Upsample for details.\n",
      "  \"See the documentation of nn.Upsample for details.\".format(mode))\n"
     ]
    },
    {
     "name": "stdout",
     "output_type": "stream",
     "text": [
      "Epoch 9, Train Loss: 95.66, Train KLD Loss: 15.96, Test Loss: 95.81, Test KLD Loss: 15.97\n",
      "end of epoch\n"
     ]
    },
    {
     "name": "stderr",
     "output_type": "stream",
     "text": [
      "/tmp/yes/envs/ritvik_pytorch_tutorial/lib/python3.7/site-packages/torch/nn/_reduction.py:46: UserWarning: size_average and reduce args will be deprecated, please use reduction='sum' instead.\n",
      "  warnings.warn(warning.format(ret))\n",
      "../metrics/calculate_fid.py:47: UserWarning: volatile was removed and now has no effect. Use `with torch.no_grad():` instead.\n",
      "  batch = Variable(batch, volatile=True)\n",
      "/tmp/yes/envs/ritvik_pytorch_tutorial/lib/python3.7/site-packages/torch/nn/functional.py:2457: UserWarning: nn.functional.upsample is deprecated. Use nn.functional.interpolate instead.\n",
      "  warnings.warn(\"nn.functional.upsample is deprecated. Use nn.functional.interpolate instead.\")\n",
      "/tmp/yes/envs/ritvik_pytorch_tutorial/lib/python3.7/site-packages/torch/nn/functional.py:2539: UserWarning: Default upsampling behavior when mode=bilinear is changed to align_corners=False since 0.4.0. Please specify align_corners=True if the old behavior is desired. See the documentation of nn.Upsample for details.\n",
      "  \"See the documentation of nn.Upsample for details.\".format(mode))\n"
     ]
    },
    {
     "name": "stdout",
     "output_type": "stream",
     "text": [
      "Epoch 10, Train Loss: 95.23, Train KLD Loss: 16.03, Test Loss: 95.74, Test KLD Loss: 15.63\n",
      "end of epoch\n"
     ]
    },
    {
     "name": "stderr",
     "output_type": "stream",
     "text": [
      "/tmp/yes/envs/ritvik_pytorch_tutorial/lib/python3.7/site-packages/torch/nn/_reduction.py:46: UserWarning: size_average and reduce args will be deprecated, please use reduction='sum' instead.\n",
      "  warnings.warn(warning.format(ret))\n",
      "../metrics/calculate_fid.py:47: UserWarning: volatile was removed and now has no effect. Use `with torch.no_grad():` instead.\n",
      "  batch = Variable(batch, volatile=True)\n",
      "/tmp/yes/envs/ritvik_pytorch_tutorial/lib/python3.7/site-packages/torch/nn/functional.py:2457: UserWarning: nn.functional.upsample is deprecated. Use nn.functional.interpolate instead.\n",
      "  warnings.warn(\"nn.functional.upsample is deprecated. Use nn.functional.interpolate instead.\")\n",
      "/tmp/yes/envs/ritvik_pytorch_tutorial/lib/python3.7/site-packages/torch/nn/functional.py:2539: UserWarning: Default upsampling behavior when mode=bilinear is changed to align_corners=False since 0.4.0. Please specify align_corners=True if the old behavior is desired. See the documentation of nn.Upsample for details.\n",
      "  \"See the documentation of nn.Upsample for details.\".format(mode))\n"
     ]
    },
    {
     "name": "stdout",
     "output_type": "stream",
     "text": [
      "Epoch 11, Train Loss: 94.80, Train KLD Loss: 16.07, Test Loss: 95.80, Test KLD Loss: 16.12\n",
      "end of epoch\n"
     ]
    },
    {
     "name": "stderr",
     "output_type": "stream",
     "text": [
      "/tmp/yes/envs/ritvik_pytorch_tutorial/lib/python3.7/site-packages/torch/nn/_reduction.py:46: UserWarning: size_average and reduce args will be deprecated, please use reduction='sum' instead.\n",
      "  warnings.warn(warning.format(ret))\n",
      "../metrics/calculate_fid.py:47: UserWarning: volatile was removed and now has no effect. Use `with torch.no_grad():` instead.\n",
      "  batch = Variable(batch, volatile=True)\n",
      "/tmp/yes/envs/ritvik_pytorch_tutorial/lib/python3.7/site-packages/torch/nn/functional.py:2457: UserWarning: nn.functional.upsample is deprecated. Use nn.functional.interpolate instead.\n",
      "  warnings.warn(\"nn.functional.upsample is deprecated. Use nn.functional.interpolate instead.\")\n",
      "/tmp/yes/envs/ritvik_pytorch_tutorial/lib/python3.7/site-packages/torch/nn/functional.py:2539: UserWarning: Default upsampling behavior when mode=bilinear is changed to align_corners=False since 0.4.0. Please specify align_corners=True if the old behavior is desired. See the documentation of nn.Upsample for details.\n",
      "  \"See the documentation of nn.Upsample for details.\".format(mode))\n"
     ]
    },
    {
     "name": "stdout",
     "output_type": "stream",
     "text": [
      "Epoch 12, Train Loss: 94.52, Train KLD Loss: 16.13, Test Loss: 95.28, Test KLD Loss: 16.11\n",
      "end of epoch\n"
     ]
    },
    {
     "name": "stderr",
     "output_type": "stream",
     "text": [
      "/tmp/yes/envs/ritvik_pytorch_tutorial/lib/python3.7/site-packages/torch/nn/_reduction.py:46: UserWarning: size_average and reduce args will be deprecated, please use reduction='sum' instead.\n",
      "  warnings.warn(warning.format(ret))\n",
      "../metrics/calculate_fid.py:47: UserWarning: volatile was removed and now has no effect. Use `with torch.no_grad():` instead.\n",
      "  batch = Variable(batch, volatile=True)\n",
      "/tmp/yes/envs/ritvik_pytorch_tutorial/lib/python3.7/site-packages/torch/nn/functional.py:2457: UserWarning: nn.functional.upsample is deprecated. Use nn.functional.interpolate instead.\n",
      "  warnings.warn(\"nn.functional.upsample is deprecated. Use nn.functional.interpolate instead.\")\n",
      "/tmp/yes/envs/ritvik_pytorch_tutorial/lib/python3.7/site-packages/torch/nn/functional.py:2539: UserWarning: Default upsampling behavior when mode=bilinear is changed to align_corners=False since 0.4.0. Please specify align_corners=True if the old behavior is desired. See the documentation of nn.Upsample for details.\n",
      "  \"See the documentation of nn.Upsample for details.\".format(mode))\n"
     ]
    },
    {
     "name": "stdout",
     "output_type": "stream",
     "text": [
      "Epoch 13, Train Loss: 94.27, Train KLD Loss: 16.16, Test Loss: 95.20, Test KLD Loss: 15.98\n",
      "end of epoch\n"
     ]
    },
    {
     "name": "stderr",
     "output_type": "stream",
     "text": [
      "/tmp/yes/envs/ritvik_pytorch_tutorial/lib/python3.7/site-packages/torch/nn/_reduction.py:46: UserWarning: size_average and reduce args will be deprecated, please use reduction='sum' instead.\n",
      "  warnings.warn(warning.format(ret))\n",
      "../metrics/calculate_fid.py:47: UserWarning: volatile was removed and now has no effect. Use `with torch.no_grad():` instead.\n",
      "  batch = Variable(batch, volatile=True)\n",
      "/tmp/yes/envs/ritvik_pytorch_tutorial/lib/python3.7/site-packages/torch/nn/functional.py:2457: UserWarning: nn.functional.upsample is deprecated. Use nn.functional.interpolate instead.\n",
      "  warnings.warn(\"nn.functional.upsample is deprecated. Use nn.functional.interpolate instead.\")\n",
      "/tmp/yes/envs/ritvik_pytorch_tutorial/lib/python3.7/site-packages/torch/nn/functional.py:2539: UserWarning: Default upsampling behavior when mode=bilinear is changed to align_corners=False since 0.4.0. Please specify align_corners=True if the old behavior is desired. See the documentation of nn.Upsample for details.\n",
      "  \"See the documentation of nn.Upsample for details.\".format(mode))\n"
     ]
    },
    {
     "name": "stdout",
     "output_type": "stream",
     "text": [
      "Epoch 14, Train Loss: 93.92, Train KLD Loss: 16.16, Test Loss: 94.75, Test KLD Loss: 15.97\n",
      "end of epoch\n",
      "\n"
     ]
    }
   ],
   "source": [
    "for e in tnrange(N_EPOCHS,desc='Epochs'):\n",
    "\n",
    "    train_loss, tr_rcl_loss, tr_kld_loss, tr_kl_per_lt = train(modelt, optimizert, train_iterator, device, BATCH_SIZE)\n",
    "    test_loss, test_rcl_loss, test_kld_loss, test_kl_per_lt, blur = test(modelt, optimizert, test_iterator, device, BATCH_SIZE)\n",
    "\n",
    "    with torch.no_grad():\n",
    "        fid1, grid, grid2 = compute_generative_metric(test_iterator, modelt, device, LATENT_DIM, BATCH_SIZE, \n",
    "                                    color_value= None, digit_value=None)\n",
    "\n",
    "        tb.add_image('Real image', grid, global_step = e)\n",
    "        tb.add_image('Generated images', grid2, global_step = e)\n",
    "#     plt.figure(figsize = (15,  15))\n",
    "#     plt.imshow(np.transpose(grid, (1,2,0)))\n",
    "#     plt.show()\n",
    "    \n",
    "#     plt.figure(figsize = (15,  15))\n",
    "#     plt.imshow(np.transpose(grid2.cpu(), (1,2,0)))\n",
    "#     plt.show()\n",
    "    \n",
    "        fid2, grid, grid2 = compute_generative_metric(test_iterator, modelt, device, LATENT_DIM, BATCH_SIZE, \n",
    "                                    color_value= 0, digit_value=None)\n",
    "\n",
    "        tb.add_image('Real image', grid, global_step = e)\n",
    "        tb.add_image('Generated images', grid2, global_step = e)    \n",
    "\n",
    "#     plt.figure(figsize = (15,  15))\n",
    "#     plt.imshow(np.transpose(grid, (1,2,0)))\n",
    "#     plt.show()\n",
    "    \n",
    "#     plt.figure(figsize = (15,  15))\n",
    "#     plt.imshow(np.transpose(grid2.cpu(), (1,2,0)))\n",
    "#     plt.show()\n",
    "    \n",
    "        fid3, grid, grid2 = compute_generative_metric(test_iterator, modelt, device, LATENT_DIM, BATCH_SIZE, \n",
    "                                    color_value= None, digit_value=5)\n",
    "\n",
    "\n",
    "        tb.add_image('Real image', grid, global_step = e)\n",
    "        tb.add_image('Generated images', grid2, global_step = e)\n",
    "#     plt.figure(figsize = (15,  15))\n",
    "#     plt.imshow(np.transpose(grid, (1,2,0)))\n",
    "#     plt.show()\n",
    "    \n",
    "#     plt.figure(figsize = (15,  15))\n",
    "#     plt.imshow(np.transpose(grid2.cpu(), (1,2,0)))\n",
    "#     plt.show()\n",
    "    \n",
    "        fid4, grid, grid2 = compute_generative_metric(test_iterator, modelt, device, LATENT_DIM, BATCH_SIZE, \n",
    "                                    color_value= 0, digit_value=5)\n",
    "\n",
    "\n",
    "        tb.add_image('Real image', grid, global_step = e)\n",
    "        tb.add_image('Generated images', grid2, global_step = e)\n",
    "    train_loss /= len(train_dataset)\n",
    "    tr_rcl_loss /= len(train_dataset)\n",
    "    tr_kld_loss /= len(train_dataset)\n",
    "    test_loss /= len(test_dataset)\n",
    "    test_rcl_loss /= len(test_dataset)\n",
    "    test_kld_loss /= len(test_dataset)\n",
    "    \n",
    "    tb.add_scalar('Test loss', test_loss, e)\n",
    "    tb.add_scalar('Train loss', train_loss, e)\n",
    "    tb.add_scalar('Test KLD loss', test_kld_loss, e)\n",
    "    tb.add_scalar('Train KLD loss', tr_kld_loss, e)\n",
    "    tb.add_scalar('Test RCL loss', test_rcl_loss, e)\n",
    "    tb.add_scalar('Train RCL loss', tr_rcl_loss, e)\n",
    "    tb.add_scalar('FID any color and digit', fid1, e)\n",
    "    tb.add_scalar('FID color red only', fid2, e)\n",
    "    tb.add_scalar('FID digit 5 only', fid3, e)\n",
    "    tb.add_scalar('FID red 5 only', fid4, e)\n",
    "    \n",
    "    tb.add_histogram('encoder.conv1.conv.bias', modelt.encoder.conv1.conv.bias, e)\n",
    "    tb.add_histogram('encoder.conv1.conv.weight', modelt.encoder.conv1.conv.weight, e)\n",
    "    tb.add_histogram('encoder.conv1.conv.weight.grad', modelt.encoder.conv1.conv.weight.grad, e)\n",
    "    \n",
    "    tb.add_histogram('encoder.conv2.conv.bias', modelt.encoder.conv2.conv.bias, e)\n",
    "    tb.add_histogram('encoder.conv2.conv.weight', modelt.encoder.conv2.conv.weight, e)\n",
    "    tb.add_histogram('encoder.conv2.conv.weight.grad', modelt.encoder.conv2.conv.weight.grad, e)\n",
    "    \n",
    "    tb.add_histogram('encoder.conv3.conv.bias', modelt.encoder.conv3.conv.bias, e)\n",
    "    tb.add_histogram('encoder.conv3.conv.weight', modelt.encoder.conv3.conv.weight, e)\n",
    "    tb.add_histogram('encoder.conv3.conv.weight.grad', modelt.encoder.conv3.conv.weight.grad, e)\n",
    "    \n",
    "    tb.add_histogram('encoder.mu.bias', modelt.encoder.mu.bias, e)\n",
    "    tb.add_histogram('encoder.mu.weight', modelt.encoder.mu.weight, e)\n",
    "    tb.add_histogram('encoder.mu.weight.grad', modelt.encoder.mu.weight.grad, e)\n",
    "\n",
    "    tb.add_histogram('encoder.var.bias', modelt.encoder.var.bias, e)\n",
    "    tb.add_histogram('encoder.var.weight', modelt.encoder.var.weight, e)\n",
    "    tb.add_histogram('encoder.var.weight.grad', modelt.encoder.var.weight.grad, e)\n",
    "\n",
    "       \n",
    "    tb.add_histogram('decoder.latent_to_hidden.bias', modelt.decoder.latent_to_hidden.bias, e)\n",
    "    tb.add_histogram('decoder.latent_to_hidden.weight', modelt.decoder.latent_to_hidden.weight, e)\n",
    "    tb.add_histogram('decoder.latent_to_hidden.weight.grad', modelt.decoder.latent_to_hidden.weight.grad, e)\n",
    "        \n",
    "    tb.add_histogram('decoder.conv1.conv.bias', modelt.decoder.conv1.conv.bias, e)\n",
    "    tb.add_histogram('decoder.conv1.conv.weight', modelt.decoder.conv1.conv.weight, e)\n",
    "    tb.add_histogram('decoder.conv1.conv.weight.grad', modelt.decoder.conv1.conv.weight.grad, e)\n",
    "    \n",
    "    tb.add_histogram('decoder.conv2.conv.bias', modelt.decoder.conv2.conv.bias, e)\n",
    "    tb.add_histogram('decoder.conv2.conv.weight', modelt.decoder.conv2.conv.weight, e)\n",
    "    tb.add_histogram('decoder.conv2.conv.weight.grad', modelt.decoder.conv2.conv.weight.grad, e)\n",
    "    \n",
    "    tb.add_histogram('decoder.conv3.conv.bias', modelt.decoder.conv3.conv.bias, e)\n",
    "    tb.add_histogram('decoder.conv3.conv.weight', modelt.decoder.conv3.conv.weight, e)\n",
    "    tb.add_histogram('decoder.conv3.conv.weight.grad', modelt.decoder.conv3.conv.weight.grad, e)\n",
    "\n",
    "    dataframe['epoch'].append(e)\n",
    "    dataframe['train_losses'].append(train_loss)\n",
    "    dataframe['train_rcl_losses'].append(tr_rcl_loss)\n",
    "    dataframe['train_kl_losses'].append(tr_kld_loss)\n",
    "    dataframe['test_losses'].append(test_loss)\n",
    "    dataframe['test_rcl_losses'].append(test_rcl_loss)\n",
    "    dataframe['test_kl_losses'].append(test_kld_loss)\n",
    "\n",
    "    dataframe['fid_any_color_any_digit'].append(fid1)\n",
    "    dataframe['fid_color_blue_any_digit'].append(fid2)\n",
    "    dataframe['fid_any_color_digit_0'].append(fid3)\n",
    "    dataframe['fid_color_blue_digit_zero'].append(fid4)\n",
    "    dataframe['blur'].append(blur)\n",
    "    print(f'Epoch {e}, Train Loss: {train_loss:.2f}, Train KLD Loss: {tr_kld_loss:.2f}, Test Loss: {test_loss:.2f}, Test KLD Loss: {test_kld_loss:.2f}' )\n",
    "    #sns.pairplot(data = pd.DataFrame(tr_kl_per_lt), height=3, vars=[\"dimension\"])\n",
    "\n",
    "    df = pd.DataFrame(tr_kl_per_lt)\n",
    "    df = df.sort_values(by=['KL_Divergence'])\n",
    "    n_dim = np.max(df['Latent_Dimension'])\n",
    "\n",
    "    kld_avg_dim = np.zeros(n_dim)\n",
    "\n",
    "    for i in range(n_dim):\n",
    "        kld_avg_dim[i] = np.mean(df['KL_Divergence'][df['Latent_Dimension'] == i])\n",
    "    kld_avg_dim = np.sort(kld_avg_dim)[::-1]\n",
    "\n",
    "    data2['epoch'].append(e)\n",
    "    data2['n_dim'].append(n_dim)\n",
    "    data2['kld_avg_dim'].append(kld_avg_dim)\n",
    "\n",
    "    #     print(f'Epoch {e}, Train RCL loss: {tr_rcl_loss:.2f}, Test RCL Loss: {test_rcl_loss:.2f}')\n",
    "    if best_test_loss > test_loss:\n",
    "        best_test_loss = test_loss\n",
    "        patience_counter = 1\n",
    "    else:\n",
    "        patience_counter += 1\n",
    "\n",
    "    if patience_counter > 3:\n",
    "        break\n",
    "    \n",
    "    print('end of epoch')\n",
    "    \n",
    "\n",
    "tb.close()        "
   ]
  },
  {
   "cell_type": "code",
   "execution_count": 16,
   "metadata": {},
   "outputs": [],
   "source": [
    "stats = pd.DataFrame(dataframe)"
   ]
  },
  {
   "cell_type": "code",
   "execution_count": 17,
   "metadata": {},
   "outputs": [],
   "source": [
    "stats = stats.sort_values(by='epoch', ascending=False)"
   ]
  },
  {
   "cell_type": "code",
   "execution_count": 18,
   "metadata": {},
   "outputs": [
    {
     "data": {
      "text/plain": [
       "<matplotlib.legend.Legend at 0x7f1dfd4b7ac8>"
      ]
     },
     "execution_count": 18,
     "metadata": {},
     "output_type": "execute_result"
    },
    {
     "data": {
      "image/png": "[encoded data removed]",
      "text/plain": [
       "<Figure size 432x288 with 1 Axes>"
      ]
     },
     "metadata": {
      "needs_background": "light"
     },
     "output_type": "display_data"
    }
   ],
   "source": [
    "import seaborn as sns\n",
    "\n",
    "sns.lineplot(data = stats, x = 'epoch', y = 'train_losses')\n",
    "g = sns.lineplot(data = stats, x = 'epoch', y = 'test_losses')\n",
    "g.set_ylabel('Loss')\n",
    "g.legend(['Train losses', 'Test_losses'])"
   ]
  },
  {
   "cell_type": "code",
   "execution_count": 22,
   "metadata": {},
   "outputs": [
    {
     "data": {
      "text/plain": [
       "<matplotlib.legend.Legend at 0x7f5a62cad898>"
      ]
     },
     "execution_count": 22,
     "metadata": {},
     "output_type": "execute_result"
    },
    {
     "data": {
      "image/png": "[encoded data removed]",
      "text/plain": [
       "<Figure size 432x288 with 1 Axes>"
      ]
     },
     "metadata": {
      "needs_background": "light"
     },
     "output_type": "display_data"
    }
   ],
   "source": [
    "import seaborn as sns\n",
    "\n",
    "sns.lineplot(data = stats, x = 'epoch', y = 'fid_any_color_any_digit')\n",
    "sns.lineplot(data = stats, x = 'epoch', y = 'fid_color_blue_any_digit')\n",
    "sns.lineplot(data = stats, x = 'epoch', y = 'fid_any_color_digit_0')\n",
    "g = sns.lineplot(data = stats, x = 'epoch', y = 'fid_color_blue_digit_zero')\n",
    "g.set_ylabel('fid score')\n",
    "g.legend(['any color and digit', 'color red only', 'digit 5 only', 'red 5 only'])"
   ]
  },
  {
   "cell_type": "code",
   "execution_count": 23,
   "metadata": {},
   "outputs": [
    {
     "data": {
      "text/html": [
       "<div>\n",
       "<style scoped>\n",
       "    .dataframe tbody tr th:only-of-type {\n",
       "        vertical-align: middle;\n",
       "    }\n",
       "\n",
       "    .dataframe tbody tr th {\n",
       "        vertical-align: top;\n",
       "    }\n",
       "\n",
       "    .dataframe thead th {\n",
       "        text-align: right;\n",
       "    }\n",
       "</style>\n",
       "<table border=\"1\" class=\"dataframe\">\n",
       "  <thead>\n",
       "    <tr style=\"text-align: right;\">\n",
       "      <th></th>\n",
       "      <th>epoch</th>\n",
       "      <th>train_losses</th>\n",
       "      <th>train_rcl_losses</th>\n",
       "      <th>train_kl_losses</th>\n",
       "      <th>test_losses</th>\n",
       "      <th>test_rcl_losses</th>\n",
       "      <th>test_kl_losses</th>\n",
       "      <th>fid_any_color_any_digit</th>\n",
       "      <th>fid_color_blue_any_digit</th>\n",
       "      <th>fid_any_color_digit_0</th>\n",
       "      <th>fid_color_blue_digit_zero</th>\n",
       "      <th>blur</th>\n",
       "    </tr>\n",
       "  </thead>\n",
       "  <tbody>\n",
       "    <tr>\n",
       "      <th>14</th>\n",
       "      <td>14</td>\n",
       "      <td>95.080951</td>\n",
       "      <td>77.040487</td>\n",
       "      <td>18.040464</td>\n",
       "      <td>95.847717</td>\n",
       "      <td>78.398561</td>\n",
       "      <td>17.449156</td>\n",
       "      <td>23.794529</td>\n",
       "      <td>24.510164</td>\n",
       "      <td>22.374997</td>\n",
       "      <td>24.873771</td>\n",
       "      <td>0.010938</td>\n",
       "    </tr>\n",
       "    <tr>\n",
       "      <th>13</th>\n",
       "      <td>13</td>\n",
       "      <td>95.266275</td>\n",
       "      <td>77.287230</td>\n",
       "      <td>17.979045</td>\n",
       "      <td>95.402302</td>\n",
       "      <td>77.900812</td>\n",
       "      <td>17.501490</td>\n",
       "      <td>24.800173</td>\n",
       "      <td>24.984559</td>\n",
       "      <td>20.825309</td>\n",
       "      <td>23.263569</td>\n",
       "      <td>0.010677</td>\n",
       "    </tr>\n",
       "    <tr>\n",
       "      <th>12</th>\n",
       "      <td>12</td>\n",
       "      <td>95.519802</td>\n",
       "      <td>77.548663</td>\n",
       "      <td>17.971139</td>\n",
       "      <td>95.746873</td>\n",
       "      <td>78.048221</td>\n",
       "      <td>17.698652</td>\n",
       "      <td>24.787214</td>\n",
       "      <td>23.730962</td>\n",
       "      <td>25.387442</td>\n",
       "      <td>24.255796</td>\n",
       "      <td>0.011092</td>\n",
       "    </tr>\n",
       "    <tr>\n",
       "      <th>11</th>\n",
       "      <td>11</td>\n",
       "      <td>95.828409</td>\n",
       "      <td>77.858868</td>\n",
       "      <td>17.969540</td>\n",
       "      <td>96.178673</td>\n",
       "      <td>78.656551</td>\n",
       "      <td>17.522121</td>\n",
       "      <td>24.093618</td>\n",
       "      <td>24.620161</td>\n",
       "      <td>25.234608</td>\n",
       "      <td>26.320448</td>\n",
       "      <td>0.010882</td>\n",
       "    </tr>\n",
       "    <tr>\n",
       "      <th>10</th>\n",
       "      <td>10</td>\n",
       "      <td>96.063621</td>\n",
       "      <td>78.130076</td>\n",
       "      <td>17.933546</td>\n",
       "      <td>96.403533</td>\n",
       "      <td>78.648398</td>\n",
       "      <td>17.755134</td>\n",
       "      <td>26.217498</td>\n",
       "      <td>25.945665</td>\n",
       "      <td>22.741047</td>\n",
       "      <td>23.104978</td>\n",
       "      <td>0.011066</td>\n",
       "    </tr>\n",
       "    <tr>\n",
       "      <th>9</th>\n",
       "      <td>9</td>\n",
       "      <td>96.781869</td>\n",
       "      <td>78.766422</td>\n",
       "      <td>18.015447</td>\n",
       "      <td>96.601243</td>\n",
       "      <td>78.977666</td>\n",
       "      <td>17.623576</td>\n",
       "      <td>24.928565</td>\n",
       "      <td>25.845707</td>\n",
       "      <td>24.258372</td>\n",
       "      <td>28.710609</td>\n",
       "      <td>0.010652</td>\n",
       "    </tr>\n",
       "    <tr>\n",
       "      <th>8</th>\n",
       "      <td>8</td>\n",
       "      <td>99.476058</td>\n",
       "      <td>81.367253</td>\n",
       "      <td>18.108805</td>\n",
       "      <td>98.511504</td>\n",
       "      <td>80.593801</td>\n",
       "      <td>17.917703</td>\n",
       "      <td>27.504499</td>\n",
       "      <td>27.956192</td>\n",
       "      <td>31.191325</td>\n",
       "      <td>32.540192</td>\n",
       "      <td>0.010282</td>\n",
       "    </tr>\n",
       "    <tr>\n",
       "      <th>7</th>\n",
       "      <td>7</td>\n",
       "      <td>97.638144</td>\n",
       "      <td>79.884527</td>\n",
       "      <td>17.753617</td>\n",
       "      <td>97.608374</td>\n",
       "      <td>80.225068</td>\n",
       "      <td>17.383306</td>\n",
       "      <td>28.577239</td>\n",
       "      <td>25.862091</td>\n",
       "      <td>26.129651</td>\n",
       "      <td>27.917711</td>\n",
       "      <td>0.010104</td>\n",
       "    </tr>\n",
       "    <tr>\n",
       "      <th>6</th>\n",
       "      <td>6</td>\n",
       "      <td>98.390476</td>\n",
       "      <td>80.727914</td>\n",
       "      <td>17.662563</td>\n",
       "      <td>97.912323</td>\n",
       "      <td>80.112072</td>\n",
       "      <td>17.800251</td>\n",
       "      <td>25.539461</td>\n",
       "      <td>26.698135</td>\n",
       "      <td>27.104588</td>\n",
       "      <td>28.236682</td>\n",
       "      <td>0.010237</td>\n",
       "    </tr>\n",
       "    <tr>\n",
       "      <th>5</th>\n",
       "      <td>5</td>\n",
       "      <td>99.312234</td>\n",
       "      <td>81.743277</td>\n",
       "      <td>17.568957</td>\n",
       "      <td>98.605173</td>\n",
       "      <td>81.037248</td>\n",
       "      <td>17.567924</td>\n",
       "      <td>27.034794</td>\n",
       "      <td>26.943174</td>\n",
       "      <td>29.287048</td>\n",
       "      <td>30.546270</td>\n",
       "      <td>0.010490</td>\n",
       "    </tr>\n",
       "    <tr>\n",
       "      <th>4</th>\n",
       "      <td>4</td>\n",
       "      <td>100.493105</td>\n",
       "      <td>82.970119</td>\n",
       "      <td>17.522986</td>\n",
       "      <td>99.418179</td>\n",
       "      <td>81.936328</td>\n",
       "      <td>17.481851</td>\n",
       "      <td>28.143108</td>\n",
       "      <td>29.062737</td>\n",
       "      <td>30.387366</td>\n",
       "      <td>31.866355</td>\n",
       "      <td>0.009852</td>\n",
       "    </tr>\n",
       "    <tr>\n",
       "      <th>3</th>\n",
       "      <td>3</td>\n",
       "      <td>102.213979</td>\n",
       "      <td>84.829919</td>\n",
       "      <td>17.384059</td>\n",
       "      <td>100.546890</td>\n",
       "      <td>83.089015</td>\n",
       "      <td>17.457875</td>\n",
       "      <td>30.797848</td>\n",
       "      <td>30.480045</td>\n",
       "      <td>30.147612</td>\n",
       "      <td>32.645232</td>\n",
       "      <td>0.009871</td>\n",
       "    </tr>\n",
       "    <tr>\n",
       "      <th>2</th>\n",
       "      <td>2</td>\n",
       "      <td>104.859695</td>\n",
       "      <td>87.613841</td>\n",
       "      <td>17.245854</td>\n",
       "      <td>102.778866</td>\n",
       "      <td>85.709212</td>\n",
       "      <td>17.069654</td>\n",
       "      <td>33.987746</td>\n",
       "      <td>32.673283</td>\n",
       "      <td>42.547873</td>\n",
       "      <td>42.240305</td>\n",
       "      <td>0.009051</td>\n",
       "    </tr>\n",
       "    <tr>\n",
       "      <th>1</th>\n",
       "      <td>1</td>\n",
       "      <td>110.330126</td>\n",
       "      <td>93.635239</td>\n",
       "      <td>16.694888</td>\n",
       "      <td>106.224429</td>\n",
       "      <td>89.342761</td>\n",
       "      <td>16.881668</td>\n",
       "      <td>37.186407</td>\n",
       "      <td>35.493953</td>\n",
       "      <td>41.899432</td>\n",
       "      <td>45.017092</td>\n",
       "      <td>0.008945</td>\n",
       "    </tr>\n",
       "    <tr>\n",
       "      <th>0</th>\n",
       "      <td>0</td>\n",
       "      <td>162.389756</td>\n",
       "      <td>149.767106</td>\n",
       "      <td>12.622650</td>\n",
       "      <td>114.908753</td>\n",
       "      <td>98.720235</td>\n",
       "      <td>16.188518</td>\n",
       "      <td>51.448058</td>\n",
       "      <td>55.565947</td>\n",
       "      <td>65.927924</td>\n",
       "      <td>74.092611</td>\n",
       "      <td>0.007317</td>\n",
       "    </tr>\n",
       "  </tbody>\n",
       "</table>\n",
       "</div>"
      ],
      "text/plain": [
       "    epoch  train_losses  train_rcl_losses  train_kl_losses  test_losses  \\\n",
       "14     14     95.080951         77.040487        18.040464    95.847717   \n",
       "13     13     95.266275         77.287230        17.979045    95.402302   \n",
       "12     12     95.519802         77.548663        17.971139    95.746873   \n",
       "11     11     95.828409         77.858868        17.969540    96.178673   \n",
       "10     10     96.063621         78.130076        17.933546    96.403533   \n",
       "9       9     96.781869         78.766422        18.015447    96.601243   \n",
       "8       8     99.476058         81.367253        18.108805    98.511504   \n",
       "7       7     97.638144         79.884527        17.753617    97.608374   \n",
       "6       6     98.390476         80.727914        17.662563    97.912323   \n",
       "5       5     99.312234         81.743277        17.568957    98.605173   \n",
       "4       4    100.493105         82.970119        17.522986    99.418179   \n",
       "3       3    102.213979         84.829919        17.384059   100.546890   \n",
       "2       2    104.859695         87.613841        17.245854   102.778866   \n",
       "1       1    110.330126         93.635239        16.694888   106.224429   \n",
       "0       0    162.389756        149.767106        12.622650   114.908753   \n",
       "\n",
       "    test_rcl_losses  test_kl_losses  fid_any_color_any_digit  \\\n",
       "14        78.398561       17.449156                23.794529   \n",
       "13        77.900812       17.501490                24.800173   \n",
       "12        78.048221       17.698652                24.787214   \n",
       "11        78.656551       17.522121                24.093618   \n",
       "10        78.648398       17.755134                26.217498   \n",
       "9         78.977666       17.623576                24.928565   \n",
       "8         80.593801       17.917703                27.504499   \n",
       "7         80.225068       17.383306                28.577239   \n",
       "6         80.112072       17.800251                25.539461   \n",
       "5         81.037248       17.567924                27.034794   \n",
       "4         81.936328       17.481851                28.143108   \n",
       "3         83.089015       17.457875                30.797848   \n",
       "2         85.709212       17.069654                33.987746   \n",
       "1         89.342761       16.881668                37.186407   \n",
       "0         98.720235       16.188518                51.448058   \n",
       "\n",
       "    fid_color_blue_any_digit  fid_any_color_digit_0  \\\n",
       "14                 24.510164              22.374997   \n",
       "13                 24.984559              20.825309   \n",
       "12                 23.730962              25.387442   \n",
       "11                 24.620161              25.234608   \n",
       "10                 25.945665              22.741047   \n",
       "9                  25.845707              24.258372   \n",
       "8                  27.956192              31.191325   \n",
       "7                  25.862091              26.129651   \n",
       "6                  26.698135              27.104588   \n",
       "5                  26.943174              29.287048   \n",
       "4                  29.062737              30.387366   \n",
       "3                  30.480045              30.147612   \n",
       "2                  32.673283              42.547873   \n",
       "1                  35.493953              41.899432   \n",
       "0                  55.565947              65.927924   \n",
       "\n",
       "    fid_color_blue_digit_zero      blur  \n",
       "14                  24.873771  0.010938  \n",
       "13                  23.263569  0.010677  \n",
       "12                  24.255796  0.011092  \n",
       "11                  26.320448  0.010882  \n",
       "10                  23.104978  0.011066  \n",
       "9                   28.710609  0.010652  \n",
       "8                   32.540192  0.010282  \n",
       "7                   27.917711  0.010104  \n",
       "6                   28.236682  0.010237  \n",
       "5                   30.546270  0.010490  \n",
       "4                   31.866355  0.009852  \n",
       "3                   32.645232  0.009871  \n",
       "2                   42.240305  0.009051  \n",
       "1                   45.017092  0.008945  \n",
       "0                   74.092611  0.007317  "
      ]
     },
     "execution_count": 23,
     "metadata": {},
     "output_type": "execute_result"
    }
   ],
   "source": [
    "stats"
   ]
  },
  {
   "cell_type": "code",
   "execution_count": 31,
   "metadata": {},
   "outputs": [
    {
     "data": {
      "text/plain": [
       "<matplotlib.image.AxesImage at 0x7f4f0d44da58>"
      ]
     },
     "execution_count": 31,
     "metadata": {},
     "output_type": "execute_result"
    },
    {
     "data": {
      "image/png": "[encoded data removed]",
      "text/plain": [
       "<Figure size 1080x1080 with 1 Axes>"
      ]
     },
     "metadata": {
      "needs_background": "light"
     },
     "output_type": "display_data"
    }
   ],
   "source": [
    "import torchvision\n",
    "images = im[:10, :, :, :]\n",
    "grid2 = torchvision.utils.make_grid(images, nrow = 5)\n",
    "\n",
    "plt.figure(figsize = (15,  15))\n",
    "plt.imshow(np.transpose(grid2.cpu(), (1,2,0)))"
   ]
  },
  {
   "cell_type": "code",
   "execution_count": 107,
   "metadata": {},
   "outputs": [
    {
     "data": {
      "text/plain": [
       "torch.Size([64, 15, 1, 1])"
      ]
     },
     "execution_count": 107,
     "metadata": {},
     "output_type": "execute_result"
    }
   ],
   "source": [
    "modelt.encoder.conv1.conv_condition.weight.shape"
   ]
  },
  {
   "cell_type": "code",
   "execution_count": 108,
   "metadata": {},
   "outputs": [
    {
     "data": {
      "text/plain": [
       "torch.Size([128, 64, 4, 4])"
      ]
     },
     "execution_count": 108,
     "metadata": {},
     "output_type": "execute_result"
    }
   ],
   "source": [
    "modelt.encoder.conv2.conv.weight.shape"
   ]
  },
  {
   "cell_type": "code",
   "execution_count": 109,
   "metadata": {},
   "outputs": [
    {
     "data": {
      "text/plain": [
       "torch.Size([128, 15, 1, 1])"
      ]
     },
     "execution_count": 109,
     "metadata": {},
     "output_type": "execute_result"
    }
   ],
   "source": [
    "modelt.encoder.conv2.conv_condition.weight.shape"
   ]
  },
  {
   "cell_type": "code",
   "execution_count": 114,
   "metadata": {},
   "outputs": [
    {
     "data": {
      "text/plain": [
       "torch.Size([100, 1024])"
      ]
     },
     "execution_count": 114,
     "metadata": {},
     "output_type": "execute_result"
    }
   ],
   "source": [
    "modelt.encoder.mu.weight.shape"
   ]
  },
  {
   "cell_type": "code",
   "execution_count": 110,
   "metadata": {},
   "outputs": [
    {
     "data": {
      "text/plain": [
       "CVAE(\n",
       "  (encoder): Encoder(\n",
       "    (conv1): ConditionLayer(\n",
       "      (conv): Conv2d(3, 64, kernel_size=(4, 4), stride=(2, 2))\n",
       "      (conv_condition): Conv2d(15, 64, kernel_size=(1, 1), stride=(1, 1))\n",
       "      (activation): ReLU()\n",
       "    )\n",
       "    (conv2): ConditionLayer(\n",
       "      (conv): Conv2d(64, 128, kernel_size=(4, 4), stride=(2, 2))\n",
       "      (conv_condition): Conv2d(15, 128, kernel_size=(1, 1), stride=(1, 1))\n",
       "      (activation): ReLU()\n",
       "    )\n",
       "    (conv3): ConditionLayer(\n",
       "      (conv): Conv2d(128, 1024, kernel_size=(4, 4), stride=(2, 2))\n",
       "      (conv_condition): Conv2d(15, 1024, kernel_size=(1, 1), stride=(1, 1))\n",
       "      (activation): ReLU()\n",
       "    )\n",
       "    (mu): Linear(in_features=1024, out_features=100, bias=True)\n",
       "    (var): Linear(in_features=1024, out_features=100, bias=True)\n",
       "  )\n",
       "  (decoder): Decoder(\n",
       "    (latent_to_hidden): Linear(in_features=115, out_features=1024, bias=True)\n",
       "    (conv1): ConditionLayer(\n",
       "      (conv): ConvTranspose2d(1024, 128, kernel_size=(5, 5), stride=(2, 2))\n",
       "      (conv_condition): ConvTranspose2d(15, 128, kernel_size=(1, 1), stride=(1, 1))\n",
       "      (activation): ReLU()\n",
       "    )\n",
       "    (conv2): ConditionLayer(\n",
       "      (conv): ConvTranspose2d(128, 64, kernel_size=(5, 5), stride=(2, 2))\n",
       "      (conv_condition): ConvTranspose2d(15, 64, kernel_size=(1, 1), stride=(1, 1))\n",
       "      (activation): ReLU()\n",
       "    )\n",
       "    (conv3): ConditionLayer(\n",
       "      (conv): ConvTranspose2d(64, 3, kernel_size=(6, 6), stride=(2, 2), padding=(1, 1))\n",
       "      (conv_condition): ConvTranspose2d(15, 3, kernel_size=(1, 1), stride=(1, 1))\n",
       "      (activation): Sigmoid()\n",
       "    )\n",
       "  )\n",
       ")"
      ]
     },
     "execution_count": 110,
     "metadata": {},
     "output_type": "execute_result"
    }
   ],
   "source": [
    "modelt"
   ]
  },
  {
   "cell_type": "code",
   "execution_count": 111,
   "metadata": {},
   "outputs": [
    {
     "data": {
      "text/plain": [
       "torch.Size([1024, 115])"
      ]
     },
     "execution_count": 111,
     "metadata": {},
     "output_type": "execute_result"
    }
   ],
   "source": [
    "modelt.decoder.latent_to_hidden.weight.shape"
   ]
  },
  {
   "cell_type": "code",
   "execution_count": 113,
   "metadata": {},
   "outputs": [
    {
     "data": {
      "text/plain": [
       "torch.Size([128, 64, 5, 5])"
      ]
     },
     "execution_count": 113,
     "metadata": {},
     "output_type": "execute_result"
    }
   ],
   "source": [
    "modelt.decoder.conv2.conv.weight.shape"
   ]
  },
  {
   "cell_type": "code",
   "execution_count": null,
   "metadata": {},
   "outputs": [],
   "source": []
  }
 ],
 "metadata": {
  "kernelspec": {
   "display_name": "Python 3",
   "language": "python",
   "name": "python3"
  },
  "language_info": {
   "codemirror_mode": {
    "name": "ipython",
    "version": 3
   },
   "file_extension": ".py",
   "mimetype": "text/x-python",
   "name": "python",
   "nbconvert_exporter": "python",
   "pygments_lexer": "ipython3",
   "version": "3.7.0"
  }
 },
 "nbformat": 4,
 "nbformat_minor": 2
}
