{
 "cells": [
  {
   "cell_type": "code",
   "execution_count": 1,
   "metadata": {},
   "outputs": [],
   "source": [
    "import torch\n",
    "import torch.nn as nn\n",
    "import torch.optim as optim\n",
    "import torch.nn.functional as F\n",
    "from torch.autograd import Variable\n",
    "from scipy import linalg\n",
    "\n",
    "from torch.utils.data import DataLoader\n",
    "from torchvision import datasets, transforms\n",
    "\n",
    "import matplotlib.pyplot as plt\n",
    "from tqdm import tnrange\n",
    "import torchvision\n",
    "import seaborn as sns\n",
    "import pandas as pd\n",
    "import numpy as np\n",
    "from torchsummary import summary\n",
    "from torch.utils.tensorboard import SummaryWriter\n",
    "import sys"
   ]
  },
  {
   "cell_type": "code",
   "execution_count": 2,
   "metadata": {},
   "outputs": [],
   "source": [
    "sys.path.insert(0, '../models/')\n",
    "sys.path.insert(0, '../losses/')\n",
    "sys.path.insert(0, '../metrics/')"
   ]
  },
  {
   "cell_type": "code",
   "execution_count": 3,
   "metadata": {},
   "outputs": [],
   "source": [
    "from generative_metric import compute_generative_metric\n",
    "from CVAE_first import CVAE\n",
    "from CVAE_first import idx2onehot\n",
    "from sample import Sample\n",
    "from ELBO import calculate_loss\n",
    "from inception import InceptionV3\n",
    "from calculate_fid import get_activations, calculate_frechet_distance\n",
    "from blur import calc_blur"
   ]
  },
  {
   "cell_type": "code",
   "execution_count": 4,
   "metadata": {},
   "outputs": [],
   "source": [
    "device = torch.device('cuda' if torch.cuda.is_available() else 'cpu')\n",
    "transforms = transforms.Compose([transforms.ToTensor()])"
   ]
  },
  {
   "cell_type": "code",
   "execution_count": 5,
   "metadata": {},
   "outputs": [],
   "source": [
    "from itertools import product\n",
    "from train import train\n",
    "from test import test"
   ]
  },
  {
   "cell_type": "code",
   "execution_count": 6,
   "metadata": {},
   "outputs": [],
   "source": [
    "parameters = dict(lr = [ 0.01, 0.001], batch_size = [50, 100])\n",
    "param_values = [v for v in parameters.values()]"
   ]
  },
  {
   "cell_type": "code",
   "execution_count": 7,
   "metadata": {},
   "outputs": [
    {
     "name": "stdout",
     "output_type": "stream",
     "text": [
      "0.01 50\n",
      "0.01 100\n",
      "0.001 50\n",
      "0.001 100\n"
     ]
    }
   ],
   "source": [
    "for lr, BATCH_SIZE in product(*param_values):\n",
    "    print(lr, BATCH_SIZE)"
   ]
  },
  {
   "cell_type": "code",
   "execution_count": 8,
   "metadata": {},
   "outputs": [],
   "source": [
    "N_EPOCHS = 15          # times to run the model on complete data\n",
    "INPUT_DIM = 28 * 28 * 3     # size of each input\n",
    "HIDDEN_DIM = 1024\n",
    "IMAGE_CHANNELS = 3# hidden dimension\n",
    "LATENT_DIM = 100        # latent vector dimension\n",
    "N_CLASSES = 15          # number of classes in the data"
   ]
  },
  {
   "cell_type": "code",
   "execution_count": 9,
   "metadata": {},
   "outputs": [],
   "source": [
    "best_test_loss = float('inf')"
   ]
  },
  {
   "cell_type": "code",
   "execution_count": 10,
   "metadata": {},
   "outputs": [],
   "source": [
    "tb = SummaryWriter(log_dir = './runs_3/')"
   ]
  },
  {
   "cell_type": "code",
   "execution_count": 11,
   "metadata": {},
   "outputs": [
    {
     "name": "stdout",
     "output_type": "stream",
     "text": [
      "0.01 50\n"
     ]
    },
    {
     "data": {
      "application/vnd.jupyter.widget-view+json": {
       "model_id": "982561e3e9af4779a276d090c00e4b95",
       "version_major": 2,
       "version_minor": 0
      },
      "text/plain": [
       "HBox(children=(IntProgress(value=0, description='Epochs', max=15, style=ProgressStyle(description_width='initi…"
      ]
     },
     "metadata": {},
     "output_type": "display_data"
    },
    {
     "name": "stderr",
     "output_type": "stream",
     "text": [
      "/tmp/yes/envs/ritvik_pytorch_tutorial/lib/python3.7/site-packages/torch/nn/_reduction.py:46: UserWarning: size_average and reduce args will be deprecated, please use reduction='sum' instead.\n",
      "  warnings.warn(warning.format(ret))\n",
      "../metrics/calculate_fid.py:47: UserWarning: volatile was removed and now has no effect. Use `with torch.no_grad():` instead.\n",
      "  batch = Variable(batch, volatile=True)\n",
      "/tmp/yes/envs/ritvik_pytorch_tutorial/lib/python3.7/site-packages/torch/nn/functional.py:2457: UserWarning: nn.functional.upsample is deprecated. Use nn.functional.interpolate instead.\n",
      "  warnings.warn(\"nn.functional.upsample is deprecated. Use nn.functional.interpolate instead.\")\n",
      "/tmp/yes/envs/ritvik_pytorch_tutorial/lib/python3.7/site-packages/torch/nn/functional.py:2539: UserWarning: Default upsampling behavior when mode=bilinear is changed to align_corners=False since 0.4.0. Please specify align_corners=True if the old behavior is desired. See the documentation of nn.Upsample for details.\n",
      "  \"See the documentation of nn.Upsample for details.\".format(mode))\n"
     ]
    },
    {
     "name": "stdout",
     "output_type": "stream",
     "text": [
      "Epoch 0, Train Loss: 2040.36, Train KLD Loss: 1871.45, Test Loss: 145.21, Test KLD Loss: 7.18\n"
     ]
    },
    {
     "name": "stderr",
     "output_type": "stream",
     "text": [
      "/tmp/yes/envs/ritvik_pytorch_tutorial/lib/python3.7/site-packages/torch/nn/_reduction.py:46: UserWarning: size_average and reduce args will be deprecated, please use reduction='sum' instead.\n",
      "  warnings.warn(warning.format(ret))\n",
      "../metrics/calculate_fid.py:47: UserWarning: volatile was removed and now has no effect. Use `with torch.no_grad():` instead.\n",
      "  batch = Variable(batch, volatile=True)\n",
      "/tmp/yes/envs/ritvik_pytorch_tutorial/lib/python3.7/site-packages/torch/nn/functional.py:2457: UserWarning: nn.functional.upsample is deprecated. Use nn.functional.interpolate instead.\n",
      "  warnings.warn(\"nn.functional.upsample is deprecated. Use nn.functional.interpolate instead.\")\n",
      "/tmp/yes/envs/ritvik_pytorch_tutorial/lib/python3.7/site-packages/torch/nn/functional.py:2539: UserWarning: Default upsampling behavior when mode=bilinear is changed to align_corners=False since 0.4.0. Please specify align_corners=True if the old behavior is desired. See the documentation of nn.Upsample for details.\n",
      "  \"See the documentation of nn.Upsample for details.\".format(mode))\n"
     ]
    },
    {
     "name": "stdout",
     "output_type": "stream",
     "text": [
      "Epoch 1, Train Loss: 142.58, Train KLD Loss: 8.90, Test Loss: 137.39, Test KLD Loss: 9.48\n"
     ]
    },
    {
     "name": "stderr",
     "output_type": "stream",
     "text": [
      "/tmp/yes/envs/ritvik_pytorch_tutorial/lib/python3.7/site-packages/torch/nn/_reduction.py:46: UserWarning: size_average and reduce args will be deprecated, please use reduction='sum' instead.\n",
      "  warnings.warn(warning.format(ret))\n",
      "../metrics/calculate_fid.py:47: UserWarning: volatile was removed and now has no effect. Use `with torch.no_grad():` instead.\n",
      "  batch = Variable(batch, volatile=True)\n",
      "/tmp/yes/envs/ritvik_pytorch_tutorial/lib/python3.7/site-packages/torch/nn/functional.py:2457: UserWarning: nn.functional.upsample is deprecated. Use nn.functional.interpolate instead.\n",
      "  warnings.warn(\"nn.functional.upsample is deprecated. Use nn.functional.interpolate instead.\")\n",
      "/tmp/yes/envs/ritvik_pytorch_tutorial/lib/python3.7/site-packages/torch/nn/functional.py:2539: UserWarning: Default upsampling behavior when mode=bilinear is changed to align_corners=False since 0.4.0. Please specify align_corners=True if the old behavior is desired. See the documentation of nn.Upsample for details.\n",
      "  \"See the documentation of nn.Upsample for details.\".format(mode))\n"
     ]
    },
    {
     "name": "stdout",
     "output_type": "stream",
     "text": [
      "Epoch 2, Train Loss: 139.29, Train KLD Loss: 9.86, Test Loss: 136.18, Test KLD Loss: 10.23\n"
     ]
    },
    {
     "name": "stderr",
     "output_type": "stream",
     "text": [
      "/tmp/yes/envs/ritvik_pytorch_tutorial/lib/python3.7/site-packages/torch/nn/_reduction.py:46: UserWarning: size_average and reduce args will be deprecated, please use reduction='sum' instead.\n",
      "  warnings.warn(warning.format(ret))\n",
      "../metrics/calculate_fid.py:47: UserWarning: volatile was removed and now has no effect. Use `with torch.no_grad():` instead.\n",
      "  batch = Variable(batch, volatile=True)\n",
      "/tmp/yes/envs/ritvik_pytorch_tutorial/lib/python3.7/site-packages/torch/nn/functional.py:2457: UserWarning: nn.functional.upsample is deprecated. Use nn.functional.interpolate instead.\n",
      "  warnings.warn(\"nn.functional.upsample is deprecated. Use nn.functional.interpolate instead.\")\n",
      "/tmp/yes/envs/ritvik_pytorch_tutorial/lib/python3.7/site-packages/torch/nn/functional.py:2539: UserWarning: Default upsampling behavior when mode=bilinear is changed to align_corners=False since 0.4.0. Please specify align_corners=True if the old behavior is desired. See the documentation of nn.Upsample for details.\n",
      "  \"See the documentation of nn.Upsample for details.\".format(mode))\n"
     ]
    },
    {
     "name": "stdout",
     "output_type": "stream",
     "text": [
      "Epoch 3, Train Loss: 137.14, Train KLD Loss: 10.43, Test Loss: 134.52, Test KLD Loss: 10.07\n"
     ]
    },
    {
     "name": "stderr",
     "output_type": "stream",
     "text": [
      "/tmp/yes/envs/ritvik_pytorch_tutorial/lib/python3.7/site-packages/torch/nn/_reduction.py:46: UserWarning: size_average and reduce args will be deprecated, please use reduction='sum' instead.\n",
      "  warnings.warn(warning.format(ret))\n",
      "../metrics/calculate_fid.py:47: UserWarning: volatile was removed and now has no effect. Use `with torch.no_grad():` instead.\n",
      "  batch = Variable(batch, volatile=True)\n",
      "/tmp/yes/envs/ritvik_pytorch_tutorial/lib/python3.7/site-packages/torch/nn/functional.py:2457: UserWarning: nn.functional.upsample is deprecated. Use nn.functional.interpolate instead.\n",
      "  warnings.warn(\"nn.functional.upsample is deprecated. Use nn.functional.interpolate instead.\")\n",
      "/tmp/yes/envs/ritvik_pytorch_tutorial/lib/python3.7/site-packages/torch/nn/functional.py:2539: UserWarning: Default upsampling behavior when mode=bilinear is changed to align_corners=False since 0.4.0. Please specify align_corners=True if the old behavior is desired. See the documentation of nn.Upsample for details.\n",
      "  \"See the documentation of nn.Upsample for details.\".format(mode))\n"
     ]
    },
    {
     "name": "stdout",
     "output_type": "stream",
     "text": [
      "Epoch 4, Train Loss: 135.30, Train KLD Loss: 10.80, Test Loss: 135.37, Test KLD Loss: 10.88\n"
     ]
    },
    {
     "name": "stderr",
     "output_type": "stream",
     "text": [
      "/tmp/yes/envs/ritvik_pytorch_tutorial/lib/python3.7/site-packages/torch/nn/_reduction.py:46: UserWarning: size_average and reduce args will be deprecated, please use reduction='sum' instead.\n",
      "  warnings.warn(warning.format(ret))\n",
      "../metrics/calculate_fid.py:47: UserWarning: volatile was removed and now has no effect. Use `with torch.no_grad():` instead.\n",
      "  batch = Variable(batch, volatile=True)\n",
      "/tmp/yes/envs/ritvik_pytorch_tutorial/lib/python3.7/site-packages/torch/nn/functional.py:2457: UserWarning: nn.functional.upsample is deprecated. Use nn.functional.interpolate instead.\n",
      "  warnings.warn(\"nn.functional.upsample is deprecated. Use nn.functional.interpolate instead.\")\n",
      "/tmp/yes/envs/ritvik_pytorch_tutorial/lib/python3.7/site-packages/torch/nn/functional.py:2539: UserWarning: Default upsampling behavior when mode=bilinear is changed to align_corners=False since 0.4.0. Please specify align_corners=True if the old behavior is desired. See the documentation of nn.Upsample for details.\n",
      "  \"See the documentation of nn.Upsample for details.\".format(mode))\n"
     ]
    },
    {
     "name": "stdout",
     "output_type": "stream",
     "text": [
      "Epoch 5, Train Loss: 133.45, Train KLD Loss: 10.93, Test Loss: 132.63, Test KLD Loss: 10.97\n"
     ]
    },
    {
     "name": "stderr",
     "output_type": "stream",
     "text": [
      "/tmp/yes/envs/ritvik_pytorch_tutorial/lib/python3.7/site-packages/torch/nn/_reduction.py:46: UserWarning: size_average and reduce args will be deprecated, please use reduction='sum' instead.\n",
      "  warnings.warn(warning.format(ret))\n",
      "../metrics/calculate_fid.py:47: UserWarning: volatile was removed and now has no effect. Use `with torch.no_grad():` instead.\n",
      "  batch = Variable(batch, volatile=True)\n",
      "/tmp/yes/envs/ritvik_pytorch_tutorial/lib/python3.7/site-packages/torch/nn/functional.py:2457: UserWarning: nn.functional.upsample is deprecated. Use nn.functional.interpolate instead.\n",
      "  warnings.warn(\"nn.functional.upsample is deprecated. Use nn.functional.interpolate instead.\")\n",
      "/tmp/yes/envs/ritvik_pytorch_tutorial/lib/python3.7/site-packages/torch/nn/functional.py:2539: UserWarning: Default upsampling behavior when mode=bilinear is changed to align_corners=False since 0.4.0. Please specify align_corners=True if the old behavior is desired. See the documentation of nn.Upsample for details.\n",
      "  \"See the documentation of nn.Upsample for details.\".format(mode))\n"
     ]
    },
    {
     "name": "stdout",
     "output_type": "stream",
     "text": [
      "Epoch 6, Train Loss: 132.97, Train KLD Loss: 11.26, Test Loss: 132.23, Test KLD Loss: 11.57\n"
     ]
    },
    {
     "name": "stderr",
     "output_type": "stream",
     "text": [
      "/tmp/yes/envs/ritvik_pytorch_tutorial/lib/python3.7/site-packages/torch/nn/_reduction.py:46: UserWarning: size_average and reduce args will be deprecated, please use reduction='sum' instead.\n",
      "  warnings.warn(warning.format(ret))\n",
      "../metrics/calculate_fid.py:47: UserWarning: volatile was removed and now has no effect. Use `with torch.no_grad():` instead.\n",
      "  batch = Variable(batch, volatile=True)\n",
      "/tmp/yes/envs/ritvik_pytorch_tutorial/lib/python3.7/site-packages/torch/nn/functional.py:2457: UserWarning: nn.functional.upsample is deprecated. Use nn.functional.interpolate instead.\n",
      "  warnings.warn(\"nn.functional.upsample is deprecated. Use nn.functional.interpolate instead.\")\n",
      "/tmp/yes/envs/ritvik_pytorch_tutorial/lib/python3.7/site-packages/torch/nn/functional.py:2539: UserWarning: Default upsampling behavior when mode=bilinear is changed to align_corners=False since 0.4.0. Please specify align_corners=True if the old behavior is desired. See the documentation of nn.Upsample for details.\n",
      "  \"See the documentation of nn.Upsample for details.\".format(mode))\n"
     ]
    },
    {
     "name": "stdout",
     "output_type": "stream",
     "text": [
      "Epoch 7, Train Loss: 131.51, Train KLD Loss: 11.23, Test Loss: 130.13, Test KLD Loss: 10.62\n"
     ]
    },
    {
     "name": "stderr",
     "output_type": "stream",
     "text": [
      "/tmp/yes/envs/ritvik_pytorch_tutorial/lib/python3.7/site-packages/torch/nn/_reduction.py:46: UserWarning: size_average and reduce args will be deprecated, please use reduction='sum' instead.\n",
      "  warnings.warn(warning.format(ret))\n",
      "../metrics/calculate_fid.py:47: UserWarning: volatile was removed and now has no effect. Use `with torch.no_grad():` instead.\n",
      "  batch = Variable(batch, volatile=True)\n",
      "/tmp/yes/envs/ritvik_pytorch_tutorial/lib/python3.7/site-packages/torch/nn/functional.py:2457: UserWarning: nn.functional.upsample is deprecated. Use nn.functional.interpolate instead.\n",
      "  warnings.warn(\"nn.functional.upsample is deprecated. Use nn.functional.interpolate instead.\")\n",
      "/tmp/yes/envs/ritvik_pytorch_tutorial/lib/python3.7/site-packages/torch/nn/functional.py:2539: UserWarning: Default upsampling behavior when mode=bilinear is changed to align_corners=False since 0.4.0. Please specify align_corners=True if the old behavior is desired. See the documentation of nn.Upsample for details.\n",
      "  \"See the documentation of nn.Upsample for details.\".format(mode))\n"
     ]
    },
    {
     "name": "stdout",
     "output_type": "stream",
     "text": [
      "Epoch 8, Train Loss: 131.58, Train KLD Loss: 11.39, Test Loss: 129.23, Test KLD Loss: 11.30\n"
     ]
    },
    {
     "name": "stderr",
     "output_type": "stream",
     "text": [
      "/tmp/yes/envs/ritvik_pytorch_tutorial/lib/python3.7/site-packages/torch/nn/_reduction.py:46: UserWarning: size_average and reduce args will be deprecated, please use reduction='sum' instead.\n",
      "  warnings.warn(warning.format(ret))\n",
      "../metrics/calculate_fid.py:47: UserWarning: volatile was removed and now has no effect. Use `with torch.no_grad():` instead.\n",
      "  batch = Variable(batch, volatile=True)\n",
      "/tmp/yes/envs/ritvik_pytorch_tutorial/lib/python3.7/site-packages/torch/nn/functional.py:2457: UserWarning: nn.functional.upsample is deprecated. Use nn.functional.interpolate instead.\n",
      "  warnings.warn(\"nn.functional.upsample is deprecated. Use nn.functional.interpolate instead.\")\n",
      "/tmp/yes/envs/ritvik_pytorch_tutorial/lib/python3.7/site-packages/torch/nn/functional.py:2539: UserWarning: Default upsampling behavior when mode=bilinear is changed to align_corners=False since 0.4.0. Please specify align_corners=True if the old behavior is desired. See the documentation of nn.Upsample for details.\n",
      "  \"See the documentation of nn.Upsample for details.\".format(mode))\n"
     ]
    },
    {
     "name": "stdout",
     "output_type": "stream",
     "text": [
      "Epoch 9, Train Loss: 130.75, Train KLD Loss: 11.57, Test Loss: 127.61, Test KLD Loss: 11.22\n"
     ]
    },
    {
     "name": "stderr",
     "output_type": "stream",
     "text": [
      "/tmp/yes/envs/ritvik_pytorch_tutorial/lib/python3.7/site-packages/torch/nn/_reduction.py:46: UserWarning: size_average and reduce args will be deprecated, please use reduction='sum' instead.\n",
      "  warnings.warn(warning.format(ret))\n",
      "../metrics/calculate_fid.py:47: UserWarning: volatile was removed and now has no effect. Use `with torch.no_grad():` instead.\n",
      "  batch = Variable(batch, volatile=True)\n",
      "/tmp/yes/envs/ritvik_pytorch_tutorial/lib/python3.7/site-packages/torch/nn/functional.py:2457: UserWarning: nn.functional.upsample is deprecated. Use nn.functional.interpolate instead.\n",
      "  warnings.warn(\"nn.functional.upsample is deprecated. Use nn.functional.interpolate instead.\")\n",
      "/tmp/yes/envs/ritvik_pytorch_tutorial/lib/python3.7/site-packages/torch/nn/functional.py:2539: UserWarning: Default upsampling behavior when mode=bilinear is changed to align_corners=False since 0.4.0. Please specify align_corners=True if the old behavior is desired. See the documentation of nn.Upsample for details.\n",
      "  \"See the documentation of nn.Upsample for details.\".format(mode))\n"
     ]
    },
    {
     "name": "stdout",
     "output_type": "stream",
     "text": [
      "Epoch 10, Train Loss: 129.56, Train KLD Loss: 11.55, Test Loss: 126.77, Test KLD Loss: 11.09\n"
     ]
    },
    {
     "name": "stderr",
     "output_type": "stream",
     "text": [
      "/tmp/yes/envs/ritvik_pytorch_tutorial/lib/python3.7/site-packages/torch/nn/_reduction.py:46: UserWarning: size_average and reduce args will be deprecated, please use reduction='sum' instead.\n",
      "  warnings.warn(warning.format(ret))\n",
      "../metrics/calculate_fid.py:47: UserWarning: volatile was removed and now has no effect. Use `with torch.no_grad():` instead.\n",
      "  batch = Variable(batch, volatile=True)\n",
      "/tmp/yes/envs/ritvik_pytorch_tutorial/lib/python3.7/site-packages/torch/nn/functional.py:2457: UserWarning: nn.functional.upsample is deprecated. Use nn.functional.interpolate instead.\n",
      "  warnings.warn(\"nn.functional.upsample is deprecated. Use nn.functional.interpolate instead.\")\n",
      "/tmp/yes/envs/ritvik_pytorch_tutorial/lib/python3.7/site-packages/torch/nn/functional.py:2539: UserWarning: Default upsampling behavior when mode=bilinear is changed to align_corners=False since 0.4.0. Please specify align_corners=True if the old behavior is desired. See the documentation of nn.Upsample for details.\n",
      "  \"See the documentation of nn.Upsample for details.\".format(mode))\n"
     ]
    },
    {
     "name": "stdout",
     "output_type": "stream",
     "text": [
      "Epoch 11, Train Loss: 132.74, Train KLD Loss: 11.84, Test Loss: 129.45, Test KLD Loss: 11.80\n"
     ]
    },
    {
     "name": "stderr",
     "output_type": "stream",
     "text": [
      "/tmp/yes/envs/ritvik_pytorch_tutorial/lib/python3.7/site-packages/torch/nn/_reduction.py:46: UserWarning: size_average and reduce args will be deprecated, please use reduction='sum' instead.\n",
      "  warnings.warn(warning.format(ret))\n",
      "../metrics/calculate_fid.py:47: UserWarning: volatile was removed and now has no effect. Use `with torch.no_grad():` instead.\n",
      "  batch = Variable(batch, volatile=True)\n",
      "/tmp/yes/envs/ritvik_pytorch_tutorial/lib/python3.7/site-packages/torch/nn/functional.py:2457: UserWarning: nn.functional.upsample is deprecated. Use nn.functional.interpolate instead.\n",
      "  warnings.warn(\"nn.functional.upsample is deprecated. Use nn.functional.interpolate instead.\")\n",
      "/tmp/yes/envs/ritvik_pytorch_tutorial/lib/python3.7/site-packages/torch/nn/functional.py:2539: UserWarning: Default upsampling behavior when mode=bilinear is changed to align_corners=False since 0.4.0. Please specify align_corners=True if the old behavior is desired. See the documentation of nn.Upsample for details.\n",
      "  \"See the documentation of nn.Upsample for details.\".format(mode))\n"
     ]
    },
    {
     "name": "stdout",
     "output_type": "stream",
     "text": [
      "Epoch 12, Train Loss: 131.23, Train KLD Loss: 11.93, Test Loss: 133.57, Test KLD Loss: 11.91\n"
     ]
    },
    {
     "name": "stderr",
     "output_type": "stream",
     "text": [
      "/tmp/yes/envs/ritvik_pytorch_tutorial/lib/python3.7/site-packages/torch/nn/_reduction.py:46: UserWarning: size_average and reduce args will be deprecated, please use reduction='sum' instead.\n",
      "  warnings.warn(warning.format(ret))\n",
      "../metrics/calculate_fid.py:47: UserWarning: volatile was removed and now has no effect. Use `with torch.no_grad():` instead.\n",
      "  batch = Variable(batch, volatile=True)\n",
      "/tmp/yes/envs/ritvik_pytorch_tutorial/lib/python3.7/site-packages/torch/nn/functional.py:2457: UserWarning: nn.functional.upsample is deprecated. Use nn.functional.interpolate instead.\n",
      "  warnings.warn(\"nn.functional.upsample is deprecated. Use nn.functional.interpolate instead.\")\n",
      "/tmp/yes/envs/ritvik_pytorch_tutorial/lib/python3.7/site-packages/torch/nn/functional.py:2539: UserWarning: Default upsampling behavior when mode=bilinear is changed to align_corners=False since 0.4.0. Please specify align_corners=True if the old behavior is desired. See the documentation of nn.Upsample for details.\n",
      "  \"See the documentation of nn.Upsample for details.\".format(mode))\n"
     ]
    },
    {
     "name": "stdout",
     "output_type": "stream",
     "text": [
      "Epoch 13, Train Loss: 130.74, Train KLD Loss: 11.74, Test Loss: 127.90, Test KLD Loss: 11.67\n",
      "0.01 100\n"
     ]
    },
    {
     "data": {
      "application/vnd.jupyter.widget-view+json": {
       "model_id": "da5f7823eae7445fa492a1bb7d45b73f",
       "version_major": 2,
       "version_minor": 0
      },
      "text/plain": [
       "HBox(children=(IntProgress(value=0, description='Epochs', max=15, style=ProgressStyle(description_width='initi…"
      ]
     },
     "metadata": {},
     "output_type": "display_data"
    },
    {
     "name": "stderr",
     "output_type": "stream",
     "text": [
      "/tmp/yes/envs/ritvik_pytorch_tutorial/lib/python3.7/site-packages/torch/nn/_reduction.py:46: UserWarning: size_average and reduce args will be deprecated, please use reduction='sum' instead.\n",
      "  warnings.warn(warning.format(ret))\n",
      "../metrics/calculate_fid.py:47: UserWarning: volatile was removed and now has no effect. Use `with torch.no_grad():` instead.\n",
      "  batch = Variable(batch, volatile=True)\n",
      "/tmp/yes/envs/ritvik_pytorch_tutorial/lib/python3.7/site-packages/torch/nn/functional.py:2457: UserWarning: nn.functional.upsample is deprecated. Use nn.functional.interpolate instead.\n",
      "  warnings.warn(\"nn.functional.upsample is deprecated. Use nn.functional.interpolate instead.\")\n",
      "/tmp/yes/envs/ritvik_pytorch_tutorial/lib/python3.7/site-packages/torch/nn/functional.py:2539: UserWarning: Default upsampling behavior when mode=bilinear is changed to align_corners=False since 0.4.0. Please specify align_corners=True if the old behavior is desired. See the documentation of nn.Upsample for details.\n",
      "  \"See the documentation of nn.Upsample for details.\".format(mode))\n"
     ]
    },
    {
     "name": "stdout",
     "output_type": "stream",
     "text": [
      "Epoch 0, Train Loss: 82639.56, Train KLD Loss: 82441.72, Test Loss: 156.35, Test KLD Loss: 3.96\n",
      "0.001 50\n"
     ]
    },
    {
     "data": {
      "application/vnd.jupyter.widget-view+json": {
       "model_id": "e3226e079b1b44bb8b2bbd68f0ca0c7a",
       "version_major": 2,
       "version_minor": 0
      },
      "text/plain": [
       "HBox(children=(IntProgress(value=0, description='Epochs', max=15, style=ProgressStyle(description_width='initi…"
      ]
     },
     "metadata": {},
     "output_type": "display_data"
    },
    {
     "name": "stderr",
     "output_type": "stream",
     "text": [
      "/tmp/yes/envs/ritvik_pytorch_tutorial/lib/python3.7/site-packages/torch/nn/_reduction.py:46: UserWarning: size_average and reduce args will be deprecated, please use reduction='sum' instead.\n",
      "  warnings.warn(warning.format(ret))\n",
      "../metrics/calculate_fid.py:47: UserWarning: volatile was removed and now has no effect. Use `with torch.no_grad():` instead.\n",
      "  batch = Variable(batch, volatile=True)\n",
      "/tmp/yes/envs/ritvik_pytorch_tutorial/lib/python3.7/site-packages/torch/nn/functional.py:2457: UserWarning: nn.functional.upsample is deprecated. Use nn.functional.interpolate instead.\n",
      "  warnings.warn(\"nn.functional.upsample is deprecated. Use nn.functional.interpolate instead.\")\n",
      "/tmp/yes/envs/ritvik_pytorch_tutorial/lib/python3.7/site-packages/torch/nn/functional.py:2539: UserWarning: Default upsampling behavior when mode=bilinear is changed to align_corners=False since 0.4.0. Please specify align_corners=True if the old behavior is desired. See the documentation of nn.Upsample for details.\n",
      "  \"See the documentation of nn.Upsample for details.\".format(mode))\n"
     ]
    },
    {
     "name": "stdout",
     "output_type": "stream",
     "text": [
      "Epoch 0, Train Loss: 177.88, Train KLD Loss: 11.44, Test Loss: 120.25, Test KLD Loss: 15.16\n"
     ]
    },
    {
     "name": "stderr",
     "output_type": "stream",
     "text": [
      "/tmp/yes/envs/ritvik_pytorch_tutorial/lib/python3.7/site-packages/torch/nn/_reduction.py:46: UserWarning: size_average and reduce args will be deprecated, please use reduction='sum' instead.\n",
      "  warnings.warn(warning.format(ret))\n",
      "../metrics/calculate_fid.py:47: UserWarning: volatile was removed and now has no effect. Use `with torch.no_grad():` instead.\n",
      "  batch = Variable(batch, volatile=True)\n",
      "/tmp/yes/envs/ritvik_pytorch_tutorial/lib/python3.7/site-packages/torch/nn/functional.py:2457: UserWarning: nn.functional.upsample is deprecated. Use nn.functional.interpolate instead.\n",
      "  warnings.warn(\"nn.functional.upsample is deprecated. Use nn.functional.interpolate instead.\")\n",
      "/tmp/yes/envs/ritvik_pytorch_tutorial/lib/python3.7/site-packages/torch/nn/functional.py:2539: UserWarning: Default upsampling behavior when mode=bilinear is changed to align_corners=False since 0.4.0. Please specify align_corners=True if the old behavior is desired. See the documentation of nn.Upsample for details.\n",
      "  \"See the documentation of nn.Upsample for details.\".format(mode))\n"
     ]
    },
    {
     "name": "stdout",
     "output_type": "stream",
     "text": [
      "Epoch 1, Train Loss: 113.65, Train KLD Loss: 15.65, Test Loss: 107.94, Test KLD Loss: 16.36\n"
     ]
    },
    {
     "name": "stderr",
     "output_type": "stream",
     "text": [
      "/tmp/yes/envs/ritvik_pytorch_tutorial/lib/python3.7/site-packages/torch/nn/_reduction.py:46: UserWarning: size_average and reduce args will be deprecated, please use reduction='sum' instead.\n",
      "  warnings.warn(warning.format(ret))\n",
      "../metrics/calculate_fid.py:47: UserWarning: volatile was removed and now has no effect. Use `with torch.no_grad():` instead.\n",
      "  batch = Variable(batch, volatile=True)\n",
      "/tmp/yes/envs/ritvik_pytorch_tutorial/lib/python3.7/site-packages/torch/nn/functional.py:2457: UserWarning: nn.functional.upsample is deprecated. Use nn.functional.interpolate instead.\n",
      "  warnings.warn(\"nn.functional.upsample is deprecated. Use nn.functional.interpolate instead.\")\n",
      "/tmp/yes/envs/ritvik_pytorch_tutorial/lib/python3.7/site-packages/torch/nn/functional.py:2539: UserWarning: Default upsampling behavior when mode=bilinear is changed to align_corners=False since 0.4.0. Please specify align_corners=True if the old behavior is desired. See the documentation of nn.Upsample for details.\n",
      "  \"See the documentation of nn.Upsample for details.\".format(mode))\n"
     ]
    },
    {
     "name": "stdout",
     "output_type": "stream",
     "text": [
      "Epoch 2, Train Loss: 106.58, Train KLD Loss: 16.56, Test Loss: 104.28, Test KLD Loss: 16.41\n"
     ]
    },
    {
     "name": "stderr",
     "output_type": "stream",
     "text": [
      "/tmp/yes/envs/ritvik_pytorch_tutorial/lib/python3.7/site-packages/torch/nn/_reduction.py:46: UserWarning: size_average and reduce args will be deprecated, please use reduction='sum' instead.\n",
      "  warnings.warn(warning.format(ret))\n",
      "../metrics/calculate_fid.py:47: UserWarning: volatile was removed and now has no effect. Use `with torch.no_grad():` instead.\n",
      "  batch = Variable(batch, volatile=True)\n",
      "/tmp/yes/envs/ritvik_pytorch_tutorial/lib/python3.7/site-packages/torch/nn/functional.py:2457: UserWarning: nn.functional.upsample is deprecated. Use nn.functional.interpolate instead.\n",
      "  warnings.warn(\"nn.functional.upsample is deprecated. Use nn.functional.interpolate instead.\")\n",
      "/tmp/yes/envs/ritvik_pytorch_tutorial/lib/python3.7/site-packages/torch/nn/functional.py:2539: UserWarning: Default upsampling behavior when mode=bilinear is changed to align_corners=False since 0.4.0. Please specify align_corners=True if the old behavior is desired. See the documentation of nn.Upsample for details.\n",
      "  \"See the documentation of nn.Upsample for details.\".format(mode))\n"
     ]
    },
    {
     "name": "stdout",
     "output_type": "stream",
     "text": [
      "Epoch 3, Train Loss: 103.12, Train KLD Loss: 17.04, Test Loss: 101.57, Test KLD Loss: 18.01\n"
     ]
    },
    {
     "name": "stderr",
     "output_type": "stream",
     "text": [
      "/tmp/yes/envs/ritvik_pytorch_tutorial/lib/python3.7/site-packages/torch/nn/_reduction.py:46: UserWarning: size_average and reduce args will be deprecated, please use reduction='sum' instead.\n",
      "  warnings.warn(warning.format(ret))\n",
      "../metrics/calculate_fid.py:47: UserWarning: volatile was removed and now has no effect. Use `with torch.no_grad():` instead.\n",
      "  batch = Variable(batch, volatile=True)\n",
      "/tmp/yes/envs/ritvik_pytorch_tutorial/lib/python3.7/site-packages/torch/nn/functional.py:2457: UserWarning: nn.functional.upsample is deprecated. Use nn.functional.interpolate instead.\n",
      "  warnings.warn(\"nn.functional.upsample is deprecated. Use nn.functional.interpolate instead.\")\n",
      "/tmp/yes/envs/ritvik_pytorch_tutorial/lib/python3.7/site-packages/torch/nn/functional.py:2539: UserWarning: Default upsampling behavior when mode=bilinear is changed to align_corners=False since 0.4.0. Please specify align_corners=True if the old behavior is desired. See the documentation of nn.Upsample for details.\n",
      "  \"See the documentation of nn.Upsample for details.\".format(mode))\n"
     ]
    },
    {
     "name": "stdout",
     "output_type": "stream",
     "text": [
      "Epoch 4, Train Loss: 101.10, Train KLD Loss: 17.28, Test Loss: 100.12, Test KLD Loss: 17.17\n"
     ]
    },
    {
     "name": "stderr",
     "output_type": "stream",
     "text": [
      "/tmp/yes/envs/ritvik_pytorch_tutorial/lib/python3.7/site-packages/torch/nn/_reduction.py:46: UserWarning: size_average and reduce args will be deprecated, please use reduction='sum' instead.\n",
      "  warnings.warn(warning.format(ret))\n",
      "../metrics/calculate_fid.py:47: UserWarning: volatile was removed and now has no effect. Use `with torch.no_grad():` instead.\n",
      "  batch = Variable(batch, volatile=True)\n",
      "/tmp/yes/envs/ritvik_pytorch_tutorial/lib/python3.7/site-packages/torch/nn/functional.py:2457: UserWarning: nn.functional.upsample is deprecated. Use nn.functional.interpolate instead.\n",
      "  warnings.warn(\"nn.functional.upsample is deprecated. Use nn.functional.interpolate instead.\")\n",
      "/tmp/yes/envs/ritvik_pytorch_tutorial/lib/python3.7/site-packages/torch/nn/functional.py:2539: UserWarning: Default upsampling behavior when mode=bilinear is changed to align_corners=False since 0.4.0. Please specify align_corners=True if the old behavior is desired. See the documentation of nn.Upsample for details.\n",
      "  \"See the documentation of nn.Upsample for details.\".format(mode))\n"
     ]
    },
    {
     "name": "stdout",
     "output_type": "stream",
     "text": [
      "Epoch 5, Train Loss: 101.19, Train KLD Loss: 17.63, Test Loss: 99.02, Test KLD Loss: 17.38\n"
     ]
    },
    {
     "name": "stderr",
     "output_type": "stream",
     "text": [
      "/tmp/yes/envs/ritvik_pytorch_tutorial/lib/python3.7/site-packages/torch/nn/_reduction.py:46: UserWarning: size_average and reduce args will be deprecated, please use reduction='sum' instead.\n",
      "  warnings.warn(warning.format(ret))\n",
      "../metrics/calculate_fid.py:47: UserWarning: volatile was removed and now has no effect. Use `with torch.no_grad():` instead.\n",
      "  batch = Variable(batch, volatile=True)\n",
      "/tmp/yes/envs/ritvik_pytorch_tutorial/lib/python3.7/site-packages/torch/nn/functional.py:2457: UserWarning: nn.functional.upsample is deprecated. Use nn.functional.interpolate instead.\n",
      "  warnings.warn(\"nn.functional.upsample is deprecated. Use nn.functional.interpolate instead.\")\n",
      "/tmp/yes/envs/ritvik_pytorch_tutorial/lib/python3.7/site-packages/torch/nn/functional.py:2539: UserWarning: Default upsampling behavior when mode=bilinear is changed to align_corners=False since 0.4.0. Please specify align_corners=True if the old behavior is desired. See the documentation of nn.Upsample for details.\n",
      "  \"See the documentation of nn.Upsample for details.\".format(mode))\n"
     ]
    },
    {
     "name": "stdout",
     "output_type": "stream",
     "text": [
      "Epoch 6, Train Loss: 98.50, Train KLD Loss: 17.57, Test Loss: 97.97, Test KLD Loss: 17.50\n"
     ]
    },
    {
     "name": "stderr",
     "output_type": "stream",
     "text": [
      "/tmp/yes/envs/ritvik_pytorch_tutorial/lib/python3.7/site-packages/torch/nn/_reduction.py:46: UserWarning: size_average and reduce args will be deprecated, please use reduction='sum' instead.\n",
      "  warnings.warn(warning.format(ret))\n",
      "../metrics/calculate_fid.py:47: UserWarning: volatile was removed and now has no effect. Use `with torch.no_grad():` instead.\n",
      "  batch = Variable(batch, volatile=True)\n",
      "/tmp/yes/envs/ritvik_pytorch_tutorial/lib/python3.7/site-packages/torch/nn/functional.py:2457: UserWarning: nn.functional.upsample is deprecated. Use nn.functional.interpolate instead.\n",
      "  warnings.warn(\"nn.functional.upsample is deprecated. Use nn.functional.interpolate instead.\")\n",
      "/tmp/yes/envs/ritvik_pytorch_tutorial/lib/python3.7/site-packages/torch/nn/functional.py:2539: UserWarning: Default upsampling behavior when mode=bilinear is changed to align_corners=False since 0.4.0. Please specify align_corners=True if the old behavior is desired. See the documentation of nn.Upsample for details.\n",
      "  \"See the documentation of nn.Upsample for details.\".format(mode))\n"
     ]
    },
    {
     "name": "stdout",
     "output_type": "stream",
     "text": [
      "Epoch 7, Train Loss: 97.73, Train KLD Loss: 17.56, Test Loss: 97.29, Test KLD Loss: 18.04\n"
     ]
    },
    {
     "name": "stderr",
     "output_type": "stream",
     "text": [
      "/tmp/yes/envs/ritvik_pytorch_tutorial/lib/python3.7/site-packages/torch/nn/_reduction.py:46: UserWarning: size_average and reduce args will be deprecated, please use reduction='sum' instead.\n",
      "  warnings.warn(warning.format(ret))\n",
      "../metrics/calculate_fid.py:47: UserWarning: volatile was removed and now has no effect. Use `with torch.no_grad():` instead.\n",
      "  batch = Variable(batch, volatile=True)\n",
      "/tmp/yes/envs/ritvik_pytorch_tutorial/lib/python3.7/site-packages/torch/nn/functional.py:2457: UserWarning: nn.functional.upsample is deprecated. Use nn.functional.interpolate instead.\n",
      "  warnings.warn(\"nn.functional.upsample is deprecated. Use nn.functional.interpolate instead.\")\n",
      "/tmp/yes/envs/ritvik_pytorch_tutorial/lib/python3.7/site-packages/torch/nn/functional.py:2539: UserWarning: Default upsampling behavior when mode=bilinear is changed to align_corners=False since 0.4.0. Please specify align_corners=True if the old behavior is desired. See the documentation of nn.Upsample for details.\n",
      "  \"See the documentation of nn.Upsample for details.\".format(mode))\n"
     ]
    },
    {
     "name": "stdout",
     "output_type": "stream",
     "text": [
      "Epoch 8, Train Loss: 97.11, Train KLD Loss: 17.61, Test Loss: 96.87, Test KLD Loss: 17.42\n"
     ]
    },
    {
     "name": "stderr",
     "output_type": "stream",
     "text": [
      "/tmp/yes/envs/ritvik_pytorch_tutorial/lib/python3.7/site-packages/torch/nn/_reduction.py:46: UserWarning: size_average and reduce args will be deprecated, please use reduction='sum' instead.\n",
      "  warnings.warn(warning.format(ret))\n",
      "../metrics/calculate_fid.py:47: UserWarning: volatile was removed and now has no effect. Use `with torch.no_grad():` instead.\n",
      "  batch = Variable(batch, volatile=True)\n",
      "/tmp/yes/envs/ritvik_pytorch_tutorial/lib/python3.7/site-packages/torch/nn/functional.py:2457: UserWarning: nn.functional.upsample is deprecated. Use nn.functional.interpolate instead.\n",
      "  warnings.warn(\"nn.functional.upsample is deprecated. Use nn.functional.interpolate instead.\")\n",
      "/tmp/yes/envs/ritvik_pytorch_tutorial/lib/python3.7/site-packages/torch/nn/functional.py:2539: UserWarning: Default upsampling behavior when mode=bilinear is changed to align_corners=False since 0.4.0. Please specify align_corners=True if the old behavior is desired. See the documentation of nn.Upsample for details.\n",
      "  \"See the documentation of nn.Upsample for details.\".format(mode))\n"
     ]
    },
    {
     "name": "stdout",
     "output_type": "stream",
     "text": [
      "Epoch 9, Train Loss: 96.60, Train KLD Loss: 17.64, Test Loss: 97.21, Test KLD Loss: 17.64\n"
     ]
    },
    {
     "name": "stderr",
     "output_type": "stream",
     "text": [
      "/tmp/yes/envs/ritvik_pytorch_tutorial/lib/python3.7/site-packages/torch/nn/_reduction.py:46: UserWarning: size_average and reduce args will be deprecated, please use reduction='sum' instead.\n",
      "  warnings.warn(warning.format(ret))\n",
      "../metrics/calculate_fid.py:47: UserWarning: volatile was removed and now has no effect. Use `with torch.no_grad():` instead.\n",
      "  batch = Variable(batch, volatile=True)\n",
      "/tmp/yes/envs/ritvik_pytorch_tutorial/lib/python3.7/site-packages/torch/nn/functional.py:2457: UserWarning: nn.functional.upsample is deprecated. Use nn.functional.interpolate instead.\n",
      "  warnings.warn(\"nn.functional.upsample is deprecated. Use nn.functional.interpolate instead.\")\n",
      "/tmp/yes/envs/ritvik_pytorch_tutorial/lib/python3.7/site-packages/torch/nn/functional.py:2539: UserWarning: Default upsampling behavior when mode=bilinear is changed to align_corners=False since 0.4.0. Please specify align_corners=True if the old behavior is desired. See the documentation of nn.Upsample for details.\n",
      "  \"See the documentation of nn.Upsample for details.\".format(mode))\n"
     ]
    },
    {
     "name": "stdout",
     "output_type": "stream",
     "text": [
      "Epoch 10, Train Loss: 96.12, Train KLD Loss: 17.68, Test Loss: 96.30, Test KLD Loss: 17.07\n"
     ]
    },
    {
     "name": "stderr",
     "output_type": "stream",
     "text": [
      "/tmp/yes/envs/ritvik_pytorch_tutorial/lib/python3.7/site-packages/torch/nn/_reduction.py:46: UserWarning: size_average and reduce args will be deprecated, please use reduction='sum' instead.\n",
      "  warnings.warn(warning.format(ret))\n",
      "../metrics/calculate_fid.py:47: UserWarning: volatile was removed and now has no effect. Use `with torch.no_grad():` instead.\n",
      "  batch = Variable(batch, volatile=True)\n",
      "/tmp/yes/envs/ritvik_pytorch_tutorial/lib/python3.7/site-packages/torch/nn/functional.py:2457: UserWarning: nn.functional.upsample is deprecated. Use nn.functional.interpolate instead.\n",
      "  warnings.warn(\"nn.functional.upsample is deprecated. Use nn.functional.interpolate instead.\")\n",
      "/tmp/yes/envs/ritvik_pytorch_tutorial/lib/python3.7/site-packages/torch/nn/functional.py:2539: UserWarning: Default upsampling behavior when mode=bilinear is changed to align_corners=False since 0.4.0. Please specify align_corners=True if the old behavior is desired. See the documentation of nn.Upsample for details.\n",
      "  \"See the documentation of nn.Upsample for details.\".format(mode))\n"
     ]
    },
    {
     "name": "stdout",
     "output_type": "stream",
     "text": [
      "Epoch 11, Train Loss: 95.75, Train KLD Loss: 17.72, Test Loss: 96.10, Test KLD Loss: 17.70\n"
     ]
    },
    {
     "name": "stderr",
     "output_type": "stream",
     "text": [
      "/tmp/yes/envs/ritvik_pytorch_tutorial/lib/python3.7/site-packages/torch/nn/_reduction.py:46: UserWarning: size_average and reduce args will be deprecated, please use reduction='sum' instead.\n",
      "  warnings.warn(warning.format(ret))\n",
      "../metrics/calculate_fid.py:47: UserWarning: volatile was removed and now has no effect. Use `with torch.no_grad():` instead.\n",
      "  batch = Variable(batch, volatile=True)\n",
      "/tmp/yes/envs/ritvik_pytorch_tutorial/lib/python3.7/site-packages/torch/nn/functional.py:2457: UserWarning: nn.functional.upsample is deprecated. Use nn.functional.interpolate instead.\n",
      "  warnings.warn(\"nn.functional.upsample is deprecated. Use nn.functional.interpolate instead.\")\n",
      "/tmp/yes/envs/ritvik_pytorch_tutorial/lib/python3.7/site-packages/torch/nn/functional.py:2539: UserWarning: Default upsampling behavior when mode=bilinear is changed to align_corners=False since 0.4.0. Please specify align_corners=True if the old behavior is desired. See the documentation of nn.Upsample for details.\n",
      "  \"See the documentation of nn.Upsample for details.\".format(mode))\n"
     ]
    },
    {
     "name": "stdout",
     "output_type": "stream",
     "text": [
      "Epoch 12, Train Loss: 95.45, Train KLD Loss: 17.75, Test Loss: 95.86, Test KLD Loss: 17.37\n"
     ]
    },
    {
     "name": "stderr",
     "output_type": "stream",
     "text": [
      "/tmp/yes/envs/ritvik_pytorch_tutorial/lib/python3.7/site-packages/torch/nn/_reduction.py:46: UserWarning: size_average and reduce args will be deprecated, please use reduction='sum' instead.\n",
      "  warnings.warn(warning.format(ret))\n",
      "../metrics/calculate_fid.py:47: UserWarning: volatile was removed and now has no effect. Use `with torch.no_grad():` instead.\n",
      "  batch = Variable(batch, volatile=True)\n",
      "/tmp/yes/envs/ritvik_pytorch_tutorial/lib/python3.7/site-packages/torch/nn/functional.py:2457: UserWarning: nn.functional.upsample is deprecated. Use nn.functional.interpolate instead.\n",
      "  warnings.warn(\"nn.functional.upsample is deprecated. Use nn.functional.interpolate instead.\")\n",
      "/tmp/yes/envs/ritvik_pytorch_tutorial/lib/python3.7/site-packages/torch/nn/functional.py:2539: UserWarning: Default upsampling behavior when mode=bilinear is changed to align_corners=False since 0.4.0. Please specify align_corners=True if the old behavior is desired. See the documentation of nn.Upsample for details.\n",
      "  \"See the documentation of nn.Upsample for details.\".format(mode))\n"
     ]
    },
    {
     "name": "stdout",
     "output_type": "stream",
     "text": [
      "Epoch 13, Train Loss: 95.07, Train KLD Loss: 17.76, Test Loss: 95.53, Test KLD Loss: 17.62\n"
     ]
    },
    {
     "name": "stderr",
     "output_type": "stream",
     "text": [
      "/tmp/yes/envs/ritvik_pytorch_tutorial/lib/python3.7/site-packages/torch/nn/_reduction.py:46: UserWarning: size_average and reduce args will be deprecated, please use reduction='sum' instead.\n",
      "  warnings.warn(warning.format(ret))\n",
      "../metrics/calculate_fid.py:47: UserWarning: volatile was removed and now has no effect. Use `with torch.no_grad():` instead.\n",
      "  batch = Variable(batch, volatile=True)\n",
      "/tmp/yes/envs/ritvik_pytorch_tutorial/lib/python3.7/site-packages/torch/nn/functional.py:2457: UserWarning: nn.functional.upsample is deprecated. Use nn.functional.interpolate instead.\n",
      "  warnings.warn(\"nn.functional.upsample is deprecated. Use nn.functional.interpolate instead.\")\n",
      "/tmp/yes/envs/ritvik_pytorch_tutorial/lib/python3.7/site-packages/torch/nn/functional.py:2539: UserWarning: Default upsampling behavior when mode=bilinear is changed to align_corners=False since 0.4.0. Please specify align_corners=True if the old behavior is desired. See the documentation of nn.Upsample for details.\n",
      "  \"See the documentation of nn.Upsample for details.\".format(mode))\n"
     ]
    },
    {
     "name": "stdout",
     "output_type": "stream",
     "text": [
      "Epoch 14, Train Loss: 94.86, Train KLD Loss: 17.79, Test Loss: 95.07, Test KLD Loss: 17.57\n",
      "0.001 100\n"
     ]
    },
    {
     "data": {
      "application/vnd.jupyter.widget-view+json": {
       "model_id": "d60d8ea054b4433bb0490fda98615eea",
       "version_major": 2,
       "version_minor": 0
      },
      "text/plain": [
       "HBox(children=(IntProgress(value=0, description='Epochs', max=15, style=ProgressStyle(description_width='initi…"
      ]
     },
     "metadata": {},
     "output_type": "display_data"
    },
    {
     "name": "stderr",
     "output_type": "stream",
     "text": [
      "/tmp/yes/envs/ritvik_pytorch_tutorial/lib/python3.7/site-packages/torch/nn/_reduction.py:46: UserWarning: size_average and reduce args will be deprecated, please use reduction='sum' instead.\n",
      "  warnings.warn(warning.format(ret))\n",
      "../metrics/calculate_fid.py:47: UserWarning: volatile was removed and now has no effect. Use `with torch.no_grad():` instead.\n",
      "  batch = Variable(batch, volatile=True)\n",
      "/tmp/yes/envs/ritvik_pytorch_tutorial/lib/python3.7/site-packages/torch/nn/functional.py:2457: UserWarning: nn.functional.upsample is deprecated. Use nn.functional.interpolate instead.\n",
      "  warnings.warn(\"nn.functional.upsample is deprecated. Use nn.functional.interpolate instead.\")\n",
      "/tmp/yes/envs/ritvik_pytorch_tutorial/lib/python3.7/site-packages/torch/nn/functional.py:2539: UserWarning: Default upsampling behavior when mode=bilinear is changed to align_corners=False since 0.4.0. Please specify align_corners=True if the old behavior is desired. See the documentation of nn.Upsample for details.\n",
      "  \"See the documentation of nn.Upsample for details.\".format(mode))\n"
     ]
    },
    {
     "name": "stdout",
     "output_type": "stream",
     "text": [
      "Epoch 0, Train Loss: 204.38, Train KLD Loss: 10.89, Test Loss: 123.82, Test KLD Loss: 14.70\n"
     ]
    },
    {
     "name": "stderr",
     "output_type": "stream",
     "text": [
      "/tmp/yes/envs/ritvik_pytorch_tutorial/lib/python3.7/site-packages/torch/nn/_reduction.py:46: UserWarning: size_average and reduce args will be deprecated, please use reduction='sum' instead.\n",
      "  warnings.warn(warning.format(ret))\n",
      "../metrics/calculate_fid.py:47: UserWarning: volatile was removed and now has no effect. Use `with torch.no_grad():` instead.\n",
      "  batch = Variable(batch, volatile=True)\n",
      "/tmp/yes/envs/ritvik_pytorch_tutorial/lib/python3.7/site-packages/torch/nn/functional.py:2457: UserWarning: nn.functional.upsample is deprecated. Use nn.functional.interpolate instead.\n",
      "  warnings.warn(\"nn.functional.upsample is deprecated. Use nn.functional.interpolate instead.\")\n",
      "/tmp/yes/envs/ritvik_pytorch_tutorial/lib/python3.7/site-packages/torch/nn/functional.py:2539: UserWarning: Default upsampling behavior when mode=bilinear is changed to align_corners=False since 0.4.0. Please specify align_corners=True if the old behavior is desired. See the documentation of nn.Upsample for details.\n",
      "  \"See the documentation of nn.Upsample for details.\".format(mode))\n"
     ]
    },
    {
     "name": "stdout",
     "output_type": "stream",
     "text": [
      "Epoch 1, Train Loss: 116.01, Train KLD Loss: 15.60, Test Loss: 109.03, Test KLD Loss: 16.58\n"
     ]
    },
    {
     "name": "stderr",
     "output_type": "stream",
     "text": [
      "/tmp/yes/envs/ritvik_pytorch_tutorial/lib/python3.7/site-packages/torch/nn/_reduction.py:46: UserWarning: size_average and reduce args will be deprecated, please use reduction='sum' instead.\n",
      "  warnings.warn(warning.format(ret))\n",
      "../metrics/calculate_fid.py:47: UserWarning: volatile was removed and now has no effect. Use `with torch.no_grad():` instead.\n",
      "  batch = Variable(batch, volatile=True)\n",
      "/tmp/yes/envs/ritvik_pytorch_tutorial/lib/python3.7/site-packages/torch/nn/functional.py:2457: UserWarning: nn.functional.upsample is deprecated. Use nn.functional.interpolate instead.\n",
      "  warnings.warn(\"nn.functional.upsample is deprecated. Use nn.functional.interpolate instead.\")\n",
      "/tmp/yes/envs/ritvik_pytorch_tutorial/lib/python3.7/site-packages/torch/nn/functional.py:2539: UserWarning: Default upsampling behavior when mode=bilinear is changed to align_corners=False since 0.4.0. Please specify align_corners=True if the old behavior is desired. See the documentation of nn.Upsample for details.\n",
      "  \"See the documentation of nn.Upsample for details.\".format(mode))\n"
     ]
    },
    {
     "name": "stdout",
     "output_type": "stream",
     "text": [
      "Epoch 2, Train Loss: 106.83, Train KLD Loss: 16.74, Test Loss: 103.97, Test KLD Loss: 16.86\n"
     ]
    }
   ],
   "source": [
    "dataframe = {'model': [], 'optimizer': [], 'epoch': [], 'train_losses': [], 'train_rcl_losses': [], 'train_kl_losses': [], 'test_losses': [],\n",
    "             'test_rcl_losses': [], 'test_kl_losses': [], 'fid_any_color_any_digit': [],\n",
    "             'fid_color_blue_any_digit': [], 'fid_any_color_digit_0': [], \n",
    "             'fid_color_blue_digit_zero': [],\n",
    "             'blur': []}\n",
    "\n",
    "data2 = {'model': [], 'optimizer': [],'epoch': [], 'n_dim': [], 'kld_avg_dim': []}\n",
    "\n",
    "for lr, BATCH_SIZE in product(*param_values):\n",
    "    print(lr, BATCH_SIZE)\n",
    "    shuffle = True\n",
    "    \n",
    "    train_dataset = datasets.MNIST(\n",
    "        './data',\n",
    "        train=True,\n",
    "        download=True,\n",
    "        transform=transforms)\n",
    "\n",
    "    test_dataset = datasets.MNIST(\n",
    "        './data',\n",
    "        train=False,\n",
    "        download=True,\n",
    "        transform=transforms\n",
    "    )\n",
    "\n",
    "    train_iterator = DataLoader(train_dataset, batch_size=BATCH_SIZE, shuffle=shuffle)\n",
    "    test_iterator = DataLoader(test_dataset, batch_size=BATCH_SIZE, shuffle=shuffle)\n",
    "    \n",
    "    modelt = CVAE(IMAGE_CHANNELS,N_CLASSES, HIDDEN_DIM, LATENT_DIM, )\n",
    "\n",
    "    optimizert = optim.Adam(modelt.parameters(), lr=lr)\n",
    "\n",
    "\n",
    "    \n",
    "    for e in tnrange(N_EPOCHS,desc='Epochs'):\n",
    "\n",
    "        train_loss, tr_rcl_loss, tr_kld_loss, tr_kl_per_lt = train(modelt, optimizert, \n",
    "                                                                  train_iterator, device, BATCH_SIZE)\n",
    "        test_loss, test_rcl_loss, test_kld_loss, test_kl_per_lt, blur = test(modelt, optimizert, \n",
    "                                                                            test_iterator, device, BATCH_SIZE)\n",
    "\n",
    "        fid1, grid, grid2 = compute_generative_metric(test_iterator, modelt, device, LATENT_DIM, BATCH_SIZE, \n",
    "                                        color_value= None, digit_value=None)\n",
    "        \n",
    "        tb.add_image('Real image', grid, global_step = e)\n",
    "        tb.add_image('Generated images', grid2, global_step = e)\n",
    "        \n",
    "        fid2, grid, grid2 = compute_generative_metric(test_iterator, modelt, device, LATENT_DIM, BATCH_SIZE, \n",
    "                                        color_value= 0, digit_value=None)\n",
    "        \n",
    "        tb.add_image('Real image', grid, global_step = e)\n",
    "        tb.add_image('Generated images', grid2, global_step = e)  \n",
    "        \n",
    "        \n",
    "        fid3, grid, grid2 = compute_generative_metric(test_iterator, modelt, device, LATENT_DIM, BATCH_SIZE, \n",
    "                                        color_value= None, digit_value=5)\n",
    "        \n",
    "        tb.add_image('Real image', grid, global_step = e)\n",
    "        tb.add_image('Generated images', grid2, global_step = e)  \n",
    "        \n",
    "        fid4, grid, grid2 = compute_generative_metric(test_iterator, modelt, device, LATENT_DIM, BATCH_SIZE, \n",
    "                                        color_value= 0, digit_value=5)\n",
    "        \n",
    "        tb.add_image('Real image', grid, global_step = e)\n",
    "        tb.add_image('Generated images', grid2, global_step = e)  \n",
    "        \n",
    "        \n",
    "        train_loss /= len(train_dataset)\n",
    "        tr_rcl_loss /= len(train_dataset)\n",
    "        tr_kld_loss /= len(train_dataset)\n",
    "        test_loss /= len(test_dataset)\n",
    "        test_rcl_loss /= len(test_dataset)\n",
    "        test_kld_loss /= len(test_dataset)\n",
    "        \n",
    "        tb.add_scalar('Test loss', test_loss, e)\n",
    "        tb.add_scalar('Train loss', train_loss, e)\n",
    "        tb.add_scalar('Test KLD loss', test_kld_loss, e)\n",
    "        tb.add_scalar('Train KLD loss', tr_kld_loss, e)\n",
    "        tb.add_scalar('Test RCL loss', test_rcl_loss, e)\n",
    "        tb.add_scalar('Train RCL loss', tr_rcl_loss, e)\n",
    "        tb.add_scalar('FID any color and digit', fid1, e)\n",
    "        tb.add_scalar('FID color red only', fid2, e)\n",
    "        tb.add_scalar('FID digit 5 only', fid3, e)\n",
    "        tb.add_scalar('FID red 5 only', fid4, e)\n",
    "        \n",
    "        tb.add_histogram('encoder.conv1.conv.bias', modelt.encoder.conv1.conv.bias, e)\n",
    "        tb.add_histogram('encoder.conv1.conv.weight', modelt.encoder.conv1.conv.weight, e)\n",
    "        tb.add_histogram('encoder.conv1.conv.weight.grad', modelt.encoder.conv1.conv.weight.grad, e)\n",
    "\n",
    "        tb.add_histogram('encoder.conv2.conv.bias', modelt.encoder.conv2.conv.bias, e)\n",
    "        tb.add_histogram('encoder.conv2.conv.weight', modelt.encoder.conv2.conv.weight, e)\n",
    "        tb.add_histogram('encoder.conv2.conv.weight.grad', modelt.encoder.conv2.conv.weight.grad, e)\n",
    "\n",
    "        tb.add_histogram('encoder.conv3.conv.bias', modelt.encoder.conv3.conv.bias, e)\n",
    "        tb.add_histogram('encoder.conv3.conv.weight', modelt.encoder.conv3.conv.weight, e)\n",
    "        tb.add_histogram('encoder.conv3.conv.weight.grad', modelt.encoder.conv3.conv.weight.grad, e)\n",
    "\n",
    "        tb.add_histogram('encoder.mu.bias', modelt.encoder.mu.bias, e)\n",
    "        tb.add_histogram('encoder.mu.weight', modelt.encoder.mu.weight, e)\n",
    "        tb.add_histogram('encoder.mu.weight.grad', modelt.encoder.mu.weight.grad, e)\n",
    "\n",
    "        tb.add_histogram('encoder.var.bias', modelt.encoder.var.bias, e)\n",
    "        tb.add_histogram('encoder.var.weight', modelt.encoder.var.weight, e)\n",
    "        tb.add_histogram('encoder.var.weight.grad', modelt.encoder.var.weight.grad, e)\n",
    "\n",
    "\n",
    "        tb.add_histogram('decoder.latent_to_hidden.bias', modelt.decoder.latent_to_hidden.bias, e)\n",
    "        tb.add_histogram('decoder.latent_to_hidden.weight', modelt.decoder.latent_to_hidden.weight, e)\n",
    "        tb.add_histogram('decoder.latent_to_hidden.weight.grad', modelt.decoder.latent_to_hidden.weight.grad, e)\n",
    "\n",
    "        tb.add_histogram('decoder.conv1.conv.bias', modelt.decoder.conv1.conv.bias, e)\n",
    "        tb.add_histogram('decoder.conv1.conv.weight', modelt.decoder.conv1.conv.weight, e)\n",
    "        tb.add_histogram('decoder.conv1.conv.weight.grad', modelt.decoder.conv1.conv.weight.grad, e)\n",
    "\n",
    "        tb.add_histogram('decoder.conv2.conv.bias', modelt.decoder.conv2.conv.bias, e)\n",
    "        tb.add_histogram('decoder.conv2.conv.weight', modelt.decoder.conv2.conv.weight, e)\n",
    "        tb.add_histogram('decoder.conv2.conv.weight.grad', modelt.decoder.conv2.conv.weight.grad, e)\n",
    "\n",
    "        tb.add_histogram('decoder.conv3.conv.bias', modelt.decoder.conv3.conv.bias, e)\n",
    "        tb.add_histogram('decoder.conv3.conv.weight', modelt.decoder.conv3.conv.weight, e)\n",
    "        tb.add_histogram('decoder.conv3.conv.weight.grad', modelt.decoder.conv3.conv.weight.grad, e)\n",
    "\n",
    "        \n",
    "        dataframe['epoch'].append(e)\n",
    "        dataframe['model'].append(modelt)\n",
    "        dataframe['optimizer'].append(optimizert)\n",
    "        dataframe['train_losses'].append(train_loss)\n",
    "        dataframe['train_rcl_losses'].append(tr_rcl_loss)\n",
    "        dataframe['train_kl_losses'].append(tr_kld_loss)\n",
    "        dataframe['test_losses'].append(test_loss)\n",
    "        dataframe['test_rcl_losses'].append(test_rcl_loss)\n",
    "        dataframe['test_kl_losses'].append(test_kld_loss)\n",
    "\n",
    "        dataframe['fid_any_color_any_digit'].append(fid1)\n",
    "        dataframe['fid_color_blue_any_digit'].append(fid2)\n",
    "        dataframe['fid_any_color_digit_0'].append(fid3)\n",
    "        dataframe['fid_color_blue_digit_zero'].append(fid4)\n",
    "        dataframe['blur'].append(blur)\n",
    "        print(f'Epoch {e}, Train Loss: {train_loss:.2f}, Train KLD Loss: {tr_kld_loss:.2f}, Test Loss: {test_loss:.2f}, Test KLD Loss: {test_kld_loss:.2f}' )\n",
    "        #sns.pairplot(data = pd.DataFrame(tr_kl_per_lt), height=3, vars=[\"dimension\"])\n",
    "\n",
    "        df = pd.DataFrame(tr_kl_per_lt)\n",
    "        df = df.sort_values(by=['KL_Divergence'])\n",
    "        n_dim = np.max(df['Latent_Dimension'])\n",
    "\n",
    "        kld_avg_dim = np.zeros(n_dim)\n",
    "\n",
    "        for i in range(n_dim):\n",
    "            kld_avg_dim[i] = np.mean(df['KL_Divergence'][df['Latent_Dimension'] == i])\n",
    "        kld_avg_dim = np.sort(kld_avg_dim)[::-1]\n",
    "\n",
    "        data2['epoch'].append(e)\n",
    "        data2['n_dim'].append(n_dim)\n",
    "        data2['model'].append(modelt)\n",
    "        data2['optimizer'].append(optimizert)\n",
    "        data2['kld_avg_dim'].append(kld_avg_dim)\n",
    "\n",
    "        #     print(f'Epoch {e}, Train RCL loss: {tr_rcl_loss:.2f}, Test RCL Loss: {test_rcl_loss:.2f}')\n",
    "        if best_test_loss > test_loss:\n",
    "            best_test_loss = test_loss\n",
    "            patience_counter = 1\n",
    "        else:\n",
    "            patience_counter += 1\n",
    "\n",
    "        if patience_counter > 3:\n",
    "            break\n",
    "        \n",
    "    "
   ]
  },
  {
   "cell_type": "code",
   "execution_count": null,
   "metadata": {},
   "outputs": [],
   "source": []
  }
 ],
 "metadata": {
  "kernelspec": {
   "display_name": "Python 3",
   "language": "python",
   "name": "python3"
  },
  "language_info": {
   "codemirror_mode": {
    "name": "ipython",
    "version": 3
   },
   "file_extension": ".py",
   "mimetype": "text/x-python",
   "name": "python",
   "nbconvert_exporter": "python",
   "pygments_lexer": "ipython3",
   "version": "3.7.0"
  }
 },
 "nbformat": 4,
 "nbformat_minor": 2
}
